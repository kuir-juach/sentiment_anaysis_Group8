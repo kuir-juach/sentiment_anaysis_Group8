{
  "nbformat": 4,
  "nbformat_minor": 0,
  "metadata": {
    "colab": {
      "provenance": [],
      "mount_file_id": "1L9VYkWltUZr4H4u5BAINQESoOd7wDtbC",
      "authorship_tag": "ABX9TyMfH9XGe/7I/c/WwDaylb3t"
    },
    "kernelspec": {
      "name": "python3",
      "display_name": "Python 3"
    },
    "language_info": {
      "name": "python"
    }
  },
  "cells": [
    {
      "cell_type": "code",
      "source": [
        "# Uninstall existing versions of gensim and numpy\n",
        "!pip uninstall -y gensim numpy\n",
        "\n",
        "# Reinstall gensim and numpy cleanly\n",
        "!pip install --no-cache-dir gensim numpy"
      ],
      "metadata": {
        "colab": {
          "base_uri": "https://localhost:8080/"
        },
        "id": "DtDp2m95ybTF",
        "outputId": "1291eb68-e4a2-4c47-e0af-f8513fde155a"
      },
      "execution_count": 1,
      "outputs": [
        {
          "output_type": "stream",
          "name": "stdout",
          "text": [
            "Found existing installation: gensim 4.3.3\n",
            "Uninstalling gensim-4.3.3:\n",
            "  Successfully uninstalled gensim-4.3.3\n",
            "Found existing installation: numpy 1.26.4\n",
            "Uninstalling numpy-1.26.4:\n",
            "  Successfully uninstalled numpy-1.26.4\n",
            "Collecting gensim\n",
            "  Downloading gensim-4.3.3-cp311-cp311-manylinux_2_17_x86_64.manylinux2014_x86_64.whl.metadata (8.1 kB)\n",
            "Collecting numpy\n",
            "  Downloading numpy-2.2.6-cp311-cp311-manylinux_2_17_x86_64.manylinux2014_x86_64.whl.metadata (62 kB)\n",
            "\u001b[2K     \u001b[90m━━━━━━━━━━━━━━━━━━━━━━━━━━━━━━━━━━━━━━━\u001b[0m \u001b[32m62.0/62.0 kB\u001b[0m \u001b[31m130.7 MB/s\u001b[0m eta \u001b[36m0:00:00\u001b[0m\n",
            "\u001b[?25h  Downloading numpy-1.26.4-cp311-cp311-manylinux_2_17_x86_64.manylinux2014_x86_64.whl.metadata (61 kB)\n",
            "\u001b[2K     \u001b[90m━━━━━━━━━━━━━━━━━━━━━━━━━━━━━━━━━━━━━━━\u001b[0m \u001b[32m61.0/61.0 kB\u001b[0m \u001b[31m139.4 MB/s\u001b[0m eta \u001b[36m0:00:00\u001b[0m\n",
            "\u001b[?25hRequirement already satisfied: scipy<1.14.0,>=1.7.0 in /usr/local/lib/python3.11/dist-packages (from gensim) (1.13.1)\n",
            "Requirement already satisfied: smart-open>=1.8.1 in /usr/local/lib/python3.11/dist-packages (from gensim) (7.1.0)\n",
            "Requirement already satisfied: wrapt in /usr/local/lib/python3.11/dist-packages (from smart-open>=1.8.1->gensim) (1.17.2)\n",
            "Downloading gensim-4.3.3-cp311-cp311-manylinux_2_17_x86_64.manylinux2014_x86_64.whl (26.7 MB)\n",
            "\u001b[2K   \u001b[90m━━━━━━━━━━━━━━━━━━━━━━━━━━━━━━━━━━━━━━━━\u001b[0m \u001b[32m26.7/26.7 MB\u001b[0m \u001b[31m177.6 MB/s\u001b[0m eta \u001b[36m0:00:00\u001b[0m\n",
            "\u001b[?25hDownloading numpy-1.26.4-cp311-cp311-manylinux_2_17_x86_64.manylinux2014_x86_64.whl (18.3 MB)\n",
            "\u001b[2K   \u001b[90m━━━━━━━━━━━━━━━━━━━━━━━━━━━━━━━━━━━━━━━━\u001b[0m \u001b[32m18.3/18.3 MB\u001b[0m \u001b[31m61.3 MB/s\u001b[0m eta \u001b[36m0:00:00\u001b[0m\n",
            "\u001b[?25hInstalling collected packages: numpy, gensim\n",
            "\u001b[31mERROR: pip's dependency resolver does not currently take into account all the packages that are installed. This behaviour is the source of the following dependency conflicts.\n",
            "thinc 8.3.6 requires numpy<3.0.0,>=2.0.0, but you have numpy 1.26.4 which is incompatible.\n",
            "tsfresh 0.21.0 requires scipy>=1.14.0; python_version >= \"3.10\", but you have scipy 1.13.1 which is incompatible.\u001b[0m\u001b[31m\n",
            "\u001b[0mSuccessfully installed gensim-4.3.3 numpy-1.26.4\n"
          ]
        }
      ]
    },
    {
      "cell_type": "code",
      "source": [
        "import pandas as pd\n",
        "import matplotlib.pyplot as plt\n",
        "import seaborn as sns\n",
        "from wordcloud import WordCloud\n",
        "import re\n",
        "import nltk\n",
        "from nltk.corpus import stopwords\n",
        "from sklearn.model_selection import train_test_split\n",
        "from sklearn.feature_extraction.text import TfidfVectorizer\n",
        "import re\n",
        "from textblob import TextBlob\n",
        "from nltk.tokenize import word_tokenize\n",
        "import gensim.downloader as api"
      ],
      "metadata": {
        "id": "1vjjrruPXtU_"
      },
      "execution_count": 2,
      "outputs": []
    },
    {
      "cell_type": "code",
      "source": [
        "# File paths\n",
        "json_path = '/content/drive/MyDrive/ALU/yelp_academic_dataset_review.json'\n",
        "csv_path = '/content/drive/MyDrive/ALU/yelp_reviews_sample.csv'\n",
        "\n",
        "# Read and save the first chunk (e.g. 100,000 rows)\n",
        "chunk = pd.read_json(json_path, lines=True, chunksize=100000)\n",
        "first_chunk = next(chunk)\n",
        "first_chunk.to_csv(csv_path, index=False)\n"
      ],
      "metadata": {
        "id": "GfvtWU1_NKHu"
      },
      "execution_count": 3,
      "outputs": []
    },
    {
      "cell_type": "code",
      "source": [
        "nltk.download('stopwords')\n",
        "nltk.download('punkt')\n",
        "nltk.download('punkt_tab')"
      ],
      "metadata": {
        "colab": {
          "base_uri": "https://localhost:8080/"
        },
        "id": "dIXICUAhX0c9",
        "outputId": "60b3bfc3-25fa-4ed1-b1b5-5f2ff1ac5b29"
      },
      "execution_count": 4,
      "outputs": [
        {
          "output_type": "stream",
          "name": "stderr",
          "text": [
            "[nltk_data] Downloading package stopwords to /root/nltk_data...\n",
            "[nltk_data]   Package stopwords is already up-to-date!\n",
            "[nltk_data] Downloading package punkt to /root/nltk_data...\n",
            "[nltk_data]   Package punkt is already up-to-date!\n",
            "[nltk_data] Downloading package punkt_tab to /root/nltk_data...\n",
            "[nltk_data]   Package punkt_tab is already up-to-date!\n"
          ]
        },
        {
          "output_type": "execute_result",
          "data": {
            "text/plain": [
              "True"
            ]
          },
          "metadata": {},
          "execution_count": 4
        }
      ]
    },
    {
      "cell_type": "code",
      "source": [
        "df = first_chunk"
      ],
      "metadata": {
        "id": "EyZUfCAcX4aZ"
      },
      "execution_count": 5,
      "outputs": []
    },
    {
      "cell_type": "code",
      "source": [
        "df.columns\n"
      ],
      "metadata": {
        "colab": {
          "base_uri": "https://localhost:8080/"
        },
        "id": "SxLRsP7YX9mY",
        "outputId": "c3c00f96-a402-4b8e-d494-a4346645ec30"
      },
      "execution_count": 6,
      "outputs": [
        {
          "output_type": "execute_result",
          "data": {
            "text/plain": [
              "Index(['review_id', 'user_id', 'business_id', 'stars', 'useful', 'funny',\n",
              "       'cool', 'text', 'date'],\n",
              "      dtype='object')"
            ]
          },
          "metadata": {},
          "execution_count": 6
        }
      ]
    },
    {
      "cell_type": "code",
      "source": [
        "print(df.describe())\n",
        "print(df.isnull().sum())"
      ],
      "metadata": {
        "colab": {
          "base_uri": "https://localhost:8080/"
        },
        "id": "8_7m9fxjY0Eq",
        "outputId": "aec77a7b-aa03-4c01-e0b8-03d9416e5089"
      },
      "execution_count": 7,
      "outputs": [
        {
          "output_type": "stream",
          "name": "stdout",
          "text": [
            "               stars         useful          funny           cool  \\\n",
            "count  100000.000000  100000.000000  100000.000000  100000.000000   \n",
            "mean        3.842910       0.898980       0.257180       0.347030   \n",
            "min         1.000000       0.000000       0.000000       0.000000   \n",
            "25%         3.000000       0.000000       0.000000       0.000000   \n",
            "50%         4.000000       0.000000       0.000000       0.000000   \n",
            "75%         5.000000       1.000000       0.000000       0.000000   \n",
            "max         5.000000     320.000000      98.000000      49.000000   \n",
            "std         1.354729       2.205186       1.010212       1.066382   \n",
            "\n",
            "                                date  \n",
            "count                         100000  \n",
            "mean   2015-05-02 14:36:08.625299968  \n",
            "min              2005-03-01 17:47:15  \n",
            "25%    2013-12-07 13:33:34.750000128  \n",
            "50%       2015-09-26 23:21:59.500000  \n",
            "75%    2017-04-08 12:26:05.249999872  \n",
            "max              2018-10-04 18:22:35  \n",
            "std                              NaN  \n",
            "review_id      0\n",
            "user_id        0\n",
            "business_id    0\n",
            "stars          0\n",
            "useful         0\n",
            "funny          0\n",
            "cool           0\n",
            "text           0\n",
            "date           0\n",
            "dtype: int64\n"
          ]
        }
      ]
    },
    {
      "cell_type": "code",
      "source": [
        "df['date'] = pd.to_datetime(df['date'])"
      ],
      "metadata": {
        "id": "171i9X6EZNop"
      },
      "execution_count": 8,
      "outputs": []
    },
    {
      "cell_type": "code",
      "source": [
        "df['clean_text'] = df['text'].apply(lambda x: re.sub(r'[^a-zA-Z\\s]', '', x.lower()))"
      ],
      "metadata": {
        "id": "MpDQnoZfZQqB"
      },
      "execution_count": 9,
      "outputs": []
    },
    {
      "cell_type": "code",
      "source": [
        "df.head(1)"
      ],
      "metadata": {
        "colab": {
          "base_uri": "https://localhost:8080/",
          "height": 222
        },
        "id": "_87ZdZu8ZbB-",
        "outputId": "69365c00-b0bc-4430-ea84-3dd784c7c882"
      },
      "execution_count": 10,
      "outputs": [
        {
          "output_type": "execute_result",
          "data": {
            "text/plain": [
              "                review_id                 user_id             business_id  \\\n",
              "0  KU_O5udG6zpxOg-VcAEodg  mh_-eMZ6K5RLWhZyISBhwA  XQfwVwDr-v0ZS3_CbbE5Xw   \n",
              "\n",
              "   stars  useful  funny  cool  \\\n",
              "0      3       0      0     0   \n",
              "\n",
              "                                                text                date  \\\n",
              "0  If you decide to eat here, just be aware it is... 2018-07-07 22:09:11   \n",
              "\n",
              "                                          clean_text  \n",
              "0  if you decide to eat here just be aware it is ...  "
            ],
            "text/html": [
              "\n",
              "  <div id=\"df-800ac2fb-6bc1-4d59-8d55-0d94a07e83b4\" class=\"colab-df-container\">\n",
              "    <div>\n",
              "<style scoped>\n",
              "    .dataframe tbody tr th:only-of-type {\n",
              "        vertical-align: middle;\n",
              "    }\n",
              "\n",
              "    .dataframe tbody tr th {\n",
              "        vertical-align: top;\n",
              "    }\n",
              "\n",
              "    .dataframe thead th {\n",
              "        text-align: right;\n",
              "    }\n",
              "</style>\n",
              "<table border=\"1\" class=\"dataframe\">\n",
              "  <thead>\n",
              "    <tr style=\"text-align: right;\">\n",
              "      <th></th>\n",
              "      <th>review_id</th>\n",
              "      <th>user_id</th>\n",
              "      <th>business_id</th>\n",
              "      <th>stars</th>\n",
              "      <th>useful</th>\n",
              "      <th>funny</th>\n",
              "      <th>cool</th>\n",
              "      <th>text</th>\n",
              "      <th>date</th>\n",
              "      <th>clean_text</th>\n",
              "    </tr>\n",
              "  </thead>\n",
              "  <tbody>\n",
              "    <tr>\n",
              "      <th>0</th>\n",
              "      <td>KU_O5udG6zpxOg-VcAEodg</td>\n",
              "      <td>mh_-eMZ6K5RLWhZyISBhwA</td>\n",
              "      <td>XQfwVwDr-v0ZS3_CbbE5Xw</td>\n",
              "      <td>3</td>\n",
              "      <td>0</td>\n",
              "      <td>0</td>\n",
              "      <td>0</td>\n",
              "      <td>If you decide to eat here, just be aware it is...</td>\n",
              "      <td>2018-07-07 22:09:11</td>\n",
              "      <td>if you decide to eat here just be aware it is ...</td>\n",
              "    </tr>\n",
              "  </tbody>\n",
              "</table>\n",
              "</div>\n",
              "    <div class=\"colab-df-buttons\">\n",
              "\n",
              "  <div class=\"colab-df-container\">\n",
              "    <button class=\"colab-df-convert\" onclick=\"convertToInteractive('df-800ac2fb-6bc1-4d59-8d55-0d94a07e83b4')\"\n",
              "            title=\"Convert this dataframe to an interactive table.\"\n",
              "            style=\"display:none;\">\n",
              "\n",
              "  <svg xmlns=\"http://www.w3.org/2000/svg\" height=\"24px\" viewBox=\"0 -960 960 960\">\n",
              "    <path d=\"M120-120v-720h720v720H120Zm60-500h600v-160H180v160Zm220 220h160v-160H400v160Zm0 220h160v-160H400v160ZM180-400h160v-160H180v160Zm440 0h160v-160H620v160ZM180-180h160v-160H180v160Zm440 0h160v-160H620v160Z\"/>\n",
              "  </svg>\n",
              "    </button>\n",
              "\n",
              "  <style>\n",
              "    .colab-df-container {\n",
              "      display:flex;\n",
              "      gap: 12px;\n",
              "    }\n",
              "\n",
              "    .colab-df-convert {\n",
              "      background-color: #E8F0FE;\n",
              "      border: none;\n",
              "      border-radius: 50%;\n",
              "      cursor: pointer;\n",
              "      display: none;\n",
              "      fill: #1967D2;\n",
              "      height: 32px;\n",
              "      padding: 0 0 0 0;\n",
              "      width: 32px;\n",
              "    }\n",
              "\n",
              "    .colab-df-convert:hover {\n",
              "      background-color: #E2EBFA;\n",
              "      box-shadow: 0px 1px 2px rgba(60, 64, 67, 0.3), 0px 1px 3px 1px rgba(60, 64, 67, 0.15);\n",
              "      fill: #174EA6;\n",
              "    }\n",
              "\n",
              "    .colab-df-buttons div {\n",
              "      margin-bottom: 4px;\n",
              "    }\n",
              "\n",
              "    [theme=dark] .colab-df-convert {\n",
              "      background-color: #3B4455;\n",
              "      fill: #D2E3FC;\n",
              "    }\n",
              "\n",
              "    [theme=dark] .colab-df-convert:hover {\n",
              "      background-color: #434B5C;\n",
              "      box-shadow: 0px 1px 3px 1px rgba(0, 0, 0, 0.15);\n",
              "      filter: drop-shadow(0px 1px 2px rgba(0, 0, 0, 0.3));\n",
              "      fill: #FFFFFF;\n",
              "    }\n",
              "  </style>\n",
              "\n",
              "    <script>\n",
              "      const buttonEl =\n",
              "        document.querySelector('#df-800ac2fb-6bc1-4d59-8d55-0d94a07e83b4 button.colab-df-convert');\n",
              "      buttonEl.style.display =\n",
              "        google.colab.kernel.accessAllowed ? 'block' : 'none';\n",
              "\n",
              "      async function convertToInteractive(key) {\n",
              "        const element = document.querySelector('#df-800ac2fb-6bc1-4d59-8d55-0d94a07e83b4');\n",
              "        const dataTable =\n",
              "          await google.colab.kernel.invokeFunction('convertToInteractive',\n",
              "                                                    [key], {});\n",
              "        if (!dataTable) return;\n",
              "\n",
              "        const docLinkHtml = 'Like what you see? Visit the ' +\n",
              "          '<a target=\"_blank\" href=https://colab.research.google.com/notebooks/data_table.ipynb>data table notebook</a>'\n",
              "          + ' to learn more about interactive tables.';\n",
              "        element.innerHTML = '';\n",
              "        dataTable['output_type'] = 'display_data';\n",
              "        await google.colab.output.renderOutput(dataTable, element);\n",
              "        const docLink = document.createElement('div');\n",
              "        docLink.innerHTML = docLinkHtml;\n",
              "        element.appendChild(docLink);\n",
              "      }\n",
              "    </script>\n",
              "  </div>\n",
              "\n",
              "\n",
              "    </div>\n",
              "  </div>\n"
            ],
            "application/vnd.google.colaboratory.intrinsic+json": {
              "type": "dataframe",
              "variable_name": "df",
              "summary": "{\n  \"name\": \"df\",\n  \"rows\": 100000,\n  \"fields\": [\n    {\n      \"column\": \"review_id\",\n      \"properties\": {\n        \"dtype\": \"string\",\n        \"num_unique_values\": 100000,\n        \"samples\": [\n          \"MhKsttHvo3deXn4qM0-PFw\",\n          \"oakWLs2eYhIHA0KucrRaEA\",\n          \"U5QAKIYquWGtZPqkw52wTQ\"\n        ],\n        \"semantic_type\": \"\",\n        \"description\": \"\"\n      }\n    },\n    {\n      \"column\": \"user_id\",\n      \"properties\": {\n        \"dtype\": \"string\",\n        \"num_unique_values\": 79345,\n        \"samples\": [\n          \"IRIyx7M0J33nvBa_4NNnQg\",\n          \"J63IrZx0f_ZwrG1ha2Aypw\",\n          \"he8SGN5rPYsPh_bAPkzwEw\"\n        ],\n        \"semantic_type\": \"\",\n        \"description\": \"\"\n      }\n    },\n    {\n      \"column\": \"business_id\",\n      \"properties\": {\n        \"dtype\": \"category\",\n        \"num_unique_values\": 9973,\n        \"samples\": [\n          \"ogFDedRYxxe9LQeCo3VH7w\",\n          \"zTGzoge9b_U1m7lExiHqgw\",\n          \"RY1qY03QfETdrGWCEOugVw\"\n        ],\n        \"semantic_type\": \"\",\n        \"description\": \"\"\n      }\n    },\n    {\n      \"column\": \"stars\",\n      \"properties\": {\n        \"dtype\": \"number\",\n        \"std\": 1,\n        \"min\": 1,\n        \"max\": 5,\n        \"num_unique_values\": 5,\n        \"samples\": [\n          5,\n          2,\n          4\n        ],\n        \"semantic_type\": \"\",\n        \"description\": \"\"\n      }\n    },\n    {\n      \"column\": \"useful\",\n      \"properties\": {\n        \"dtype\": \"number\",\n        \"std\": 2,\n        \"min\": 0,\n        \"max\": 320,\n        \"num_unique_values\": 52,\n        \"samples\": [\n          19,\n          26,\n          38\n        ],\n        \"semantic_type\": \"\",\n        \"description\": \"\"\n      }\n    },\n    {\n      \"column\": \"funny\",\n      \"properties\": {\n        \"dtype\": \"number\",\n        \"std\": 1,\n        \"min\": 0,\n        \"max\": 98,\n        \"num_unique_values\": 34,\n        \"samples\": [\n          8,\n          21,\n          27\n        ],\n        \"semantic_type\": \"\",\n        \"description\": \"\"\n      }\n    },\n    {\n      \"column\": \"cool\",\n      \"properties\": {\n        \"dtype\": \"number\",\n        \"std\": 1,\n        \"min\": 0,\n        \"max\": 49,\n        \"num_unique_values\": 36,\n        \"samples\": [\n          20,\n          10,\n          25\n        ],\n        \"semantic_type\": \"\",\n        \"description\": \"\"\n      }\n    },\n    {\n      \"column\": \"text\",\n      \"properties\": {\n        \"dtype\": \"string\",\n        \"num_unique_values\": 99964,\n        \"samples\": [\n          \"We spent 4 nights here in a tent at waterside in mid-April 2015 with our 2 daughters age 10 & 13 and 2 dogs. The campground seemed well staffed and clean. Very dog friendly. There are only 3 tent sites available with water and electric. The only complaint I have is that our site had no shade at all. We would sit in the shade at a neighboring site that wasn't rented. The bathroom & showers in the rec building were very clean. One shower was out of order but I was always by myself in there so I had my pick. There is laundry in there as well, all visible from our site. The pool & hot tub area is nice, the bathrooms not as nice as the rec building. There are peddle cars for kids to rent. They have several different wifi networks but we couldn't get any of them to work with both Android & Apple devices.\",\n          \"Finally a casino in Arizona that appreciates Blackjack players!!! \\n\\nWith a Player's Club that is second to none, there is, in my opinion, no other hotel/casino combo in Arizona that can match Casino del Sol.  \\n\\nThe property itself is beautiful.  The hotel lobby is a welcome retreat from the casino floor.  Guest rooms are spacious and well-appointed.\\n\\nI rarely play slots but from I could see walking around, they seem to have better than average payouts.\\n\\nI love Blackjack and if you're willing to bet at the higher limit tables ($25 minimum) you will be rewarded with 3-deck shoes; which narrows the casino edge.\\n\\nRestaurants are good.  I like Abuelita's (quick & tasty Mexican options.  Festa Buffet is great option.  Ume was decent as well.\\n\\nEven though I live in Phoenix, I'd rather make the drive to Tucson and play in a casino that appreciates and rewards me for my play.\",\n          \"One of the top tier spa's in Reno. When I stayed at other suites in the area, they were trash compared to this gem. The Tuscany rooms cannot be beat! Courteous staff and no 2 hrs waiting in line to check in\"\n        ],\n        \"semantic_type\": \"\",\n        \"description\": \"\"\n      }\n    },\n    {\n      \"column\": \"date\",\n      \"properties\": {\n        \"dtype\": \"date\",\n        \"min\": \"2005-03-01 17:47:15\",\n        \"max\": \"2018-10-04 18:22:35\",\n        \"num_unique_values\": 99906,\n        \"samples\": [\n          \"2017-12-03 18:58:21\",\n          \"2016-08-05 17:31:35\",\n          \"2014-12-21 13:19:08\"\n        ],\n        \"semantic_type\": \"\",\n        \"description\": \"\"\n      }\n    },\n    {\n      \"column\": \"clean_text\",\n      \"properties\": {\n        \"dtype\": \"string\",\n        \"num_unique_values\": 99962,\n        \"samples\": [\n          \"i love this place i am a local and i go out on a trip probably once a month i always catch fish and the staff is very knowledgeable about fishing and helpful with rigging up fishing poles\",\n          \"i am sort of a sushi snob \\n\\nim going to be honest this was literally the worst sushi ive ever had  it was warm warm and no it wasnt tempura\\n\\ni also paid  for a side salad which was literally iceberg lettuce \\n\\nnope no spring mixno romaineno iceberg with slivers of carrots or even purple cabbage literally just iceberg i was puzzled and then angry and then i had to smirk and whisper well played my friend well played\\n\\ni will never be back\\n\\ncheck and mate\",\n          \"sunday jazz cruise without the lunch heard people say the lunch was good but id wager that lunch in the french quarter would be better  blocks away \\n\\nthere wasnt too much to see but it is nice to slow down the trip a bit and unwind on the only working steamboat in the area creole queen is not a steamboat tour guide over the speakers is unobtrusive but does tell some interesting about nola and the surrounding communities \\n\\ngo inside and check out the jazz band and the engine room downstairs all in all a good trip for just \"\n        ],\n        \"semantic_type\": \"\",\n        \"description\": \"\"\n      }\n    }\n  ]\n}"
            }
          },
          "metadata": {},
          "execution_count": 10
        }
      ]
    },
    {
      "cell_type": "code",
      "source": [
        "sns.countplot(x='stars', data=df)\n",
        "plt.title('Distribution of Star Ratings')\n",
        "plt.show()"
      ],
      "metadata": {
        "colab": {
          "base_uri": "https://localhost:8080/",
          "height": 472
        },
        "id": "HD9zQUkbZnWl",
        "outputId": "1c52c8b1-9f7d-47df-8dc6-8df502148008"
      },
      "execution_count": 11,
      "outputs": [
        {
          "output_type": "display_data",
          "data": {
            "text/plain": [
              "<Figure size 640x480 with 1 Axes>"
            ],
            "image/png": "[encoded data removed]"
          },
          "metadata": {}
        }
      ]
    },
    {
      "cell_type": "code",
      "source": [
        "# Correlation matrix\n",
        "correlation = df[['stars', 'useful', 'funny', 'cool']].corr()\n",
        "sns.heatmap(correlation, annot=True, cmap='coolwarm')\n",
        "plt.title('Correlation Matrix')\n",
        "plt.show()"
      ],
      "metadata": {
        "colab": {
          "base_uri": "https://localhost:8080/",
          "height": 452
        },
        "id": "aq-UKqSeZtJO",
        "outputId": "6f614a7c-fccf-4e70-c6df-06a8da2c1e1d"
      },
      "execution_count": 12,
      "outputs": [
        {
          "output_type": "display_data",
          "data": {
            "text/plain": [
              "<Figure size 640x480 with 2 Axes>"
            ],
            "image/png": "[encoded data removed]"
          },
          "metadata": {}
        }
      ]
    },
    {
      "cell_type": "code",
      "source": [
        "df['sentiment'] = df['text'].apply(lambda x: TextBlob(x).sentiment.polarity)\n",
        "\n",
        "# Plot sentiment vs. stars\n",
        "sns.scatterplot(x='stars', y='sentiment', data=df)\n",
        "plt.title('Sentiment Polarity vs. Star Ratings')\n",
        "plt.show()"
      ],
      "metadata": {
        "colab": {
          "base_uri": "https://localhost:8080/",
          "height": 472
        },
        "id": "85bh60_4Z8Bl",
        "outputId": "21ac4970-3663-4d73-e5b9-f9145bf9492c"
      },
      "execution_count": 13,
      "outputs": [
        {
          "output_type": "display_data",
          "data": {
            "text/plain": [
              "<Figure size 640x480 with 1 Axes>"
            ],
            "image/png": "[encoded data removed]"
          },
          "metadata": {}
        }
      ]
    },
    {
      "cell_type": "code",
      "source": [
        "def preprocess_text(text):\n",
        "    text = text.lower()\n",
        "    text = re.sub(r'[^a-zA-Z\\s]', '', text)\n",
        "    tokens = word_tokenize(text)\n",
        "    stop_words = set(stopwords.words('english'))\n",
        "    tokens = [word for word in tokens if word not in stop_words]\n",
        "    return tokens\n",
        "\n",
        "df['tokens'] = df['text'].apply(preprocess_text)"
      ],
      "metadata": {
        "id": "_qRGXtBRh4QL"
      },
      "execution_count": 14,
      "outputs": []
    },
    {
      "cell_type": "code",
      "source": [
        "df.head()"
      ],
      "metadata": {
        "colab": {
          "base_uri": "https://localhost:8080/",
          "height": 678
        },
        "id": "x36KcHFypmIZ",
        "outputId": "42efacdb-e6ca-49cf-fb80-ceed1ce591b5"
      },
      "execution_count": 15,
      "outputs": [
        {
          "output_type": "execute_result",
          "data": {
            "text/plain": [
              "                review_id                 user_id             business_id  \\\n",
              "0  KU_O5udG6zpxOg-VcAEodg  mh_-eMZ6K5RLWhZyISBhwA  XQfwVwDr-v0ZS3_CbbE5Xw   \n",
              "1  BiTunyQ73aT9WBnpR9DZGw  OyoGAe7OKpv6SyGZT5g77Q  7ATYjTIgM3jUlt4UM3IypQ   \n",
              "2  saUsX_uimxRlCVr67Z4Jig  8g_iMtfSiwikVnbP2etR0A  YjUWPpI6HXG530lwP-fb2A   \n",
              "3  AqPFMleE6RsU23_auESxiA  _7bHUi9Uuf5__HHc_Q8guQ  kxX2SOes4o-D3ZQBkiMRfA   \n",
              "4  Sx8TMOWLNuJBWer-0pcmoA  bcjbaE6dDog4jkNY91ncLQ  e4Vwtrqf-wpJfwesgvdgxQ   \n",
              "\n",
              "   stars  useful  funny  cool  \\\n",
              "0      3       0      0     0   \n",
              "1      5       1      0     1   \n",
              "2      3       0      0     0   \n",
              "3      5       1      0     1   \n",
              "4      4       1      0     1   \n",
              "\n",
              "                                                text                date  \\\n",
              "0  If you decide to eat here, just be aware it is... 2018-07-07 22:09:11   \n",
              "1  I've taken a lot of spin classes over the year... 2012-01-03 15:28:18   \n",
              "2  Family diner. Had the buffet. Eclectic assortm... 2014-02-05 20:30:30   \n",
              "3  Wow!  Yummy, different,  delicious.   Our favo... 2015-01-04 00:01:03   \n",
              "4  Cute interior and owner (?) gave us tour of up... 2017-01-14 20:54:15   \n",
              "\n",
              "                                          clean_text  sentiment  \\\n",
              "0  if you decide to eat here just be aware it is ...   0.085278   \n",
              "1  ive taken a lot of spin classes over the years...   0.402273   \n",
              "2  family diner had the buffet eclectic assortmen...   0.139935   \n",
              "3  wow  yummy different  delicious   our favorite...   0.302557   \n",
              "4  cute interior and owner  gave us tour of upcom...   0.400969   \n",
              "\n",
              "                                              tokens  \n",
              "0  [decide, eat, aware, going, take, hours, begin...  \n",
              "1  [ive, taken, lot, spin, classes, years, nothin...  \n",
              "2  [family, diner, buffet, eclectic, assortment, ...  \n",
              "3  [wow, yummy, different, delicious, favorite, l...  \n",
              "4  [cute, interior, owner, gave, us, tour, upcomi...  "
            ],
            "text/html": [
              "\n",
              "  <div id=\"df-0f9366e9-9fba-4259-9564-5f39f02818a9\" class=\"colab-df-container\">\n",
              "    <div>\n",
              "<style scoped>\n",
              "    .dataframe tbody tr th:only-of-type {\n",
              "        vertical-align: middle;\n",
              "    }\n",
              "\n",
              "    .dataframe tbody tr th {\n",
              "        vertical-align: top;\n",
              "    }\n",
              "\n",
              "    .dataframe thead th {\n",
              "        text-align: right;\n",
              "    }\n",
              "</style>\n",
              "<table border=\"1\" class=\"dataframe\">\n",
              "  <thead>\n",
              "    <tr style=\"text-align: right;\">\n",
              "      <th></th>\n",
              "      <th>review_id</th>\n",
              "      <th>user_id</th>\n",
              "      <th>business_id</th>\n",
              "      <th>stars</th>\n",
              "      <th>useful</th>\n",
              "      <th>funny</th>\n",
              "      <th>cool</th>\n",
              "      <th>text</th>\n",
              "      <th>date</th>\n",
              "      <th>clean_text</th>\n",
              "      <th>sentiment</th>\n",
              "      <th>tokens</th>\n",
              "    </tr>\n",
              "  </thead>\n",
              "  <tbody>\n",
              "    <tr>\n",
              "      <th>0</th>\n",
              "      <td>KU_O5udG6zpxOg-VcAEodg</td>\n",
              "      <td>mh_-eMZ6K5RLWhZyISBhwA</td>\n",
              "      <td>XQfwVwDr-v0ZS3_CbbE5Xw</td>\n",
              "      <td>3</td>\n",
              "      <td>0</td>\n",
              "      <td>0</td>\n",
              "      <td>0</td>\n",
              "      <td>If you decide to eat here, just be aware it is...</td>\n",
              "      <td>2018-07-07 22:09:11</td>\n",
              "      <td>if you decide to eat here just be aware it is ...</td>\n",
              "      <td>0.085278</td>\n",
              "      <td>[decide, eat, aware, going, take, hours, begin...</td>\n",
              "    </tr>\n",
              "    <tr>\n",
              "      <th>1</th>\n",
              "      <td>BiTunyQ73aT9WBnpR9DZGw</td>\n",
              "      <td>OyoGAe7OKpv6SyGZT5g77Q</td>\n",
              "      <td>7ATYjTIgM3jUlt4UM3IypQ</td>\n",
              "      <td>5</td>\n",
              "      <td>1</td>\n",
              "      <td>0</td>\n",
              "      <td>1</td>\n",
              "      <td>I've taken a lot of spin classes over the year...</td>\n",
              "      <td>2012-01-03 15:28:18</td>\n",
              "      <td>ive taken a lot of spin classes over the years...</td>\n",
              "      <td>0.402273</td>\n",
              "      <td>[ive, taken, lot, spin, classes, years, nothin...</td>\n",
              "    </tr>\n",
              "    <tr>\n",
              "      <th>2</th>\n",
              "      <td>saUsX_uimxRlCVr67Z4Jig</td>\n",
              "      <td>8g_iMtfSiwikVnbP2etR0A</td>\n",
              "      <td>YjUWPpI6HXG530lwP-fb2A</td>\n",
              "      <td>3</td>\n",
              "      <td>0</td>\n",
              "      <td>0</td>\n",
              "      <td>0</td>\n",
              "      <td>Family diner. Had the buffet. Eclectic assortm...</td>\n",
              "      <td>2014-02-05 20:30:30</td>\n",
              "      <td>family diner had the buffet eclectic assortmen...</td>\n",
              "      <td>0.139935</td>\n",
              "      <td>[family, diner, buffet, eclectic, assortment, ...</td>\n",
              "    </tr>\n",
              "    <tr>\n",
              "      <th>3</th>\n",
              "      <td>AqPFMleE6RsU23_auESxiA</td>\n",
              "      <td>_7bHUi9Uuf5__HHc_Q8guQ</td>\n",
              "      <td>kxX2SOes4o-D3ZQBkiMRfA</td>\n",
              "      <td>5</td>\n",
              "      <td>1</td>\n",
              "      <td>0</td>\n",
              "      <td>1</td>\n",
              "      <td>Wow!  Yummy, different,  delicious.   Our favo...</td>\n",
              "      <td>2015-01-04 00:01:03</td>\n",
              "      <td>wow  yummy different  delicious   our favorite...</td>\n",
              "      <td>0.302557</td>\n",
              "      <td>[wow, yummy, different, delicious, favorite, l...</td>\n",
              "    </tr>\n",
              "    <tr>\n",
              "      <th>4</th>\n",
              "      <td>Sx8TMOWLNuJBWer-0pcmoA</td>\n",
              "      <td>bcjbaE6dDog4jkNY91ncLQ</td>\n",
              "      <td>e4Vwtrqf-wpJfwesgvdgxQ</td>\n",
              "      <td>4</td>\n",
              "      <td>1</td>\n",
              "      <td>0</td>\n",
              "      <td>1</td>\n",
              "      <td>Cute interior and owner (?) gave us tour of up...</td>\n",
              "      <td>2017-01-14 20:54:15</td>\n",
              "      <td>cute interior and owner  gave us tour of upcom...</td>\n",
              "      <td>0.400969</td>\n",
              "      <td>[cute, interior, owner, gave, us, tour, upcomi...</td>\n",
              "    </tr>\n",
              "  </tbody>\n",
              "</table>\n",
              "</div>\n",
              "    <div class=\"colab-df-buttons\">\n",
              "\n",
              "  <div class=\"colab-df-container\">\n",
              "    <button class=\"colab-df-convert\" onclick=\"convertToInteractive('df-0f9366e9-9fba-4259-9564-5f39f02818a9')\"\n",
              "            title=\"Convert this dataframe to an interactive table.\"\n",
              "            style=\"display:none;\">\n",
              "\n",
              "  <svg xmlns=\"http://www.w3.org/2000/svg\" height=\"24px\" viewBox=\"0 -960 960 960\">\n",
              "    <path d=\"M120-120v-720h720v720H120Zm60-500h600v-160H180v160Zm220 220h160v-160H400v160Zm0 220h160v-160H400v160ZM180-400h160v-160H180v160Zm440 0h160v-160H620v160ZM180-180h160v-160H180v160Zm440 0h160v-160H620v160Z\"/>\n",
              "  </svg>\n",
              "    </button>\n",
              "\n",
              "  <style>\n",
              "    .colab-df-container {\n",
              "      display:flex;\n",
              "      gap: 12px;\n",
              "    }\n",
              "\n",
              "    .colab-df-convert {\n",
              "      background-color: #E8F0FE;\n",
              "      border: none;\n",
              "      border-radius: 50%;\n",
              "      cursor: pointer;\n",
              "      display: none;\n",
              "      fill: #1967D2;\n",
              "      height: 32px;\n",
              "      padding: 0 0 0 0;\n",
              "      width: 32px;\n",
              "    }\n",
              "\n",
              "    .colab-df-convert:hover {\n",
              "      background-color: #E2EBFA;\n",
              "      box-shadow: 0px 1px 2px rgba(60, 64, 67, 0.3), 0px 1px 3px 1px rgba(60, 64, 67, 0.15);\n",
              "      fill: #174EA6;\n",
              "    }\n",
              "\n",
              "    .colab-df-buttons div {\n",
              "      margin-bottom: 4px;\n",
              "    }\n",
              "\n",
              "    [theme=dark] .colab-df-convert {\n",
              "      background-color: #3B4455;\n",
              "      fill: #D2E3FC;\n",
              "    }\n",
              "\n",
              "    [theme=dark] .colab-df-convert:hover {\n",
              "      background-color: #434B5C;\n",
              "      box-shadow: 0px 1px 3px 1px rgba(0, 0, 0, 0.15);\n",
              "      filter: drop-shadow(0px 1px 2px rgba(0, 0, 0, 0.3));\n",
              "      fill: #FFFFFF;\n",
              "    }\n",
              "  </style>\n",
              "\n",
              "    <script>\n",
              "      const buttonEl =\n",
              "        document.querySelector('#df-0f9366e9-9fba-4259-9564-5f39f02818a9 button.colab-df-convert');\n",
              "      buttonEl.style.display =\n",
              "        google.colab.kernel.accessAllowed ? 'block' : 'none';\n",
              "\n",
              "      async function convertToInteractive(key) {\n",
              "        const element = document.querySelector('#df-0f9366e9-9fba-4259-9564-5f39f02818a9');\n",
              "        const dataTable =\n",
              "          await google.colab.kernel.invokeFunction('convertToInteractive',\n",
              "                                                    [key], {});\n",
              "        if (!dataTable) return;\n",
              "\n",
              "        const docLinkHtml = 'Like what you see? Visit the ' +\n",
              "          '<a target=\"_blank\" href=https://colab.research.google.com/notebooks/data_table.ipynb>data table notebook</a>'\n",
              "          + ' to learn more about interactive tables.';\n",
              "        element.innerHTML = '';\n",
              "        dataTable['output_type'] = 'display_data';\n",
              "        await google.colab.output.renderOutput(dataTable, element);\n",
              "        const docLink = document.createElement('div');\n",
              "        docLink.innerHTML = docLinkHtml;\n",
              "        element.appendChild(docLink);\n",
              "      }\n",
              "    </script>\n",
              "  </div>\n",
              "\n",
              "\n",
              "    <div id=\"df-8a832d94-2fed-405c-9ef6-feffe26c05ec\">\n",
              "      <button class=\"colab-df-quickchart\" onclick=\"quickchart('df-8a832d94-2fed-405c-9ef6-feffe26c05ec')\"\n",
              "                title=\"Suggest charts\"\n",
              "                style=\"display:none;\">\n",
              "\n",
              "<svg xmlns=\"http://www.w3.org/2000/svg\" height=\"24px\"viewBox=\"0 0 24 24\"\n",
              "     width=\"24px\">\n",
              "    <g>\n",
              "        <path d=\"M19 3H5c-1.1 0-2 .9-2 2v14c0 1.1.9 2 2 2h14c1.1 0 2-.9 2-2V5c0-1.1-.9-2-2-2zM9 17H7v-7h2v7zm4 0h-2V7h2v10zm4 0h-2v-4h2v4z\"/>\n",
              "    </g>\n",
              "</svg>\n",
              "      </button>\n",
              "\n",
              "<style>\n",
              "  .colab-df-quickchart {\n",
              "      --bg-color: #E8F0FE;\n",
              "      --fill-color: #1967D2;\n",
              "      --hover-bg-color: #E2EBFA;\n",
              "      --hover-fill-color: #174EA6;\n",
              "      --disabled-fill-color: #AAA;\n",
              "      --disabled-bg-color: #DDD;\n",
              "  }\n",
              "\n",
              "  [theme=dark] .colab-df-quickchart {\n",
              "      --bg-color: #3B4455;\n",
              "      --fill-color: #D2E3FC;\n",
              "      --hover-bg-color: #434B5C;\n",
              "      --hover-fill-color: #FFFFFF;\n",
              "      --disabled-bg-color: #3B4455;\n",
              "      --disabled-fill-color: #666;\n",
              "  }\n",
              "\n",
              "  .colab-df-quickchart {\n",
              "    background-color: var(--bg-color);\n",
              "    border: none;\n",
              "    border-radius: 50%;\n",
              "    cursor: pointer;\n",
              "    display: none;\n",
              "    fill: var(--fill-color);\n",
              "    height: 32px;\n",
              "    padding: 0;\n",
              "    width: 32px;\n",
              "  }\n",
              "\n",
              "  .colab-df-quickchart:hover {\n",
              "    background-color: var(--hover-bg-color);\n",
              "    box-shadow: 0 1px 2px rgba(60, 64, 67, 0.3), 0 1px 3px 1px rgba(60, 64, 67, 0.15);\n",
              "    fill: var(--button-hover-fill-color);\n",
              "  }\n",
              "\n",
              "  .colab-df-quickchart-complete:disabled,\n",
              "  .colab-df-quickchart-complete:disabled:hover {\n",
              "    background-color: var(--disabled-bg-color);\n",
              "    fill: var(--disabled-fill-color);\n",
              "    box-shadow: none;\n",
              "  }\n",
              "\n",
              "  .colab-df-spinner {\n",
              "    border: 2px solid var(--fill-color);\n",
              "    border-color: transparent;\n",
              "    border-bottom-color: var(--fill-color);\n",
              "    animation:\n",
              "      spin 1s steps(1) infinite;\n",
              "  }\n",
              "\n",
              "  @keyframes spin {\n",
              "    0% {\n",
              "      border-color: transparent;\n",
              "      border-bottom-color: var(--fill-color);\n",
              "      border-left-color: var(--fill-color);\n",
              "    }\n",
              "    20% {\n",
              "      border-color: transparent;\n",
              "      border-left-color: var(--fill-color);\n",
              "      border-top-color: var(--fill-color);\n",
              "    }\n",
              "    30% {\n",
              "      border-color: transparent;\n",
              "      border-left-color: var(--fill-color);\n",
              "      border-top-color: var(--fill-color);\n",
              "      border-right-color: var(--fill-color);\n",
              "    }\n",
              "    40% {\n",
              "      border-color: transparent;\n",
              "      border-right-color: var(--fill-color);\n",
              "      border-top-color: var(--fill-color);\n",
              "    }\n",
              "    60% {\n",
              "      border-color: transparent;\n",
              "      border-right-color: var(--fill-color);\n",
              "    }\n",
              "    80% {\n",
              "      border-color: transparent;\n",
              "      border-right-color: var(--fill-color);\n",
              "      border-bottom-color: var(--fill-color);\n",
              "    }\n",
              "    90% {\n",
              "      border-color: transparent;\n",
              "      border-bottom-color: var(--fill-color);\n",
              "    }\n",
              "  }\n",
              "</style>\n",
              "\n",
              "      <script>\n",
              "        async function quickchart(key) {\n",
              "          const quickchartButtonEl =\n",
              "            document.querySelector('#' + key + ' button');\n",
              "          quickchartButtonEl.disabled = true;  // To prevent multiple clicks.\n",
              "          quickchartButtonEl.classList.add('colab-df-spinner');\n",
              "          try {\n",
              "            const charts = await google.colab.kernel.invokeFunction(\n",
              "                'suggestCharts', [key], {});\n",
              "          } catch (error) {\n",
              "            console.error('Error during call to suggestCharts:', error);\n",
              "          }\n",
              "          quickchartButtonEl.classList.remove('colab-df-spinner');\n",
              "          quickchartButtonEl.classList.add('colab-df-quickchart-complete');\n",
              "        }\n",
              "        (() => {\n",
              "          let quickchartButtonEl =\n",
              "            document.querySelector('#df-8a832d94-2fed-405c-9ef6-feffe26c05ec button');\n",
              "          quickchartButtonEl.style.display =\n",
              "            google.colab.kernel.accessAllowed ? 'block' : 'none';\n",
              "        })();\n",
              "      </script>\n",
              "    </div>\n",
              "\n",
              "    </div>\n",
              "  </div>\n"
            ],
            "application/vnd.google.colaboratory.intrinsic+json": {
              "type": "dataframe",
              "variable_name": "df",
              "summary": "{\n  \"name\": \"df\",\n  \"rows\": 100000,\n  \"fields\": [\n    {\n      \"column\": \"review_id\",\n      \"properties\": {\n        \"dtype\": \"string\",\n        \"num_unique_values\": 100000,\n        \"samples\": [\n          \"MhKsttHvo3deXn4qM0-PFw\",\n          \"oakWLs2eYhIHA0KucrRaEA\",\n          \"U5QAKIYquWGtZPqkw52wTQ\"\n        ],\n        \"semantic_type\": \"\",\n        \"description\": \"\"\n      }\n    },\n    {\n      \"column\": \"user_id\",\n      \"properties\": {\n        \"dtype\": \"string\",\n        \"num_unique_values\": 79345,\n        \"samples\": [\n          \"IRIyx7M0J33nvBa_4NNnQg\",\n          \"J63IrZx0f_ZwrG1ha2Aypw\",\n          \"he8SGN5rPYsPh_bAPkzwEw\"\n        ],\n        \"semantic_type\": \"\",\n        \"description\": \"\"\n      }\n    },\n    {\n      \"column\": \"business_id\",\n      \"properties\": {\n        \"dtype\": \"category\",\n        \"num_unique_values\": 9973,\n        \"samples\": [\n          \"ogFDedRYxxe9LQeCo3VH7w\",\n          \"zTGzoge9b_U1m7lExiHqgw\",\n          \"RY1qY03QfETdrGWCEOugVw\"\n        ],\n        \"semantic_type\": \"\",\n        \"description\": \"\"\n      }\n    },\n    {\n      \"column\": \"stars\",\n      \"properties\": {\n        \"dtype\": \"number\",\n        \"std\": 1,\n        \"min\": 1,\n        \"max\": 5,\n        \"num_unique_values\": 5,\n        \"samples\": [\n          5,\n          2,\n          4\n        ],\n        \"semantic_type\": \"\",\n        \"description\": \"\"\n      }\n    },\n    {\n      \"column\": \"useful\",\n      \"properties\": {\n        \"dtype\": \"number\",\n        \"std\": 2,\n        \"min\": 0,\n        \"max\": 320,\n        \"num_unique_values\": 52,\n        \"samples\": [\n          19,\n          26,\n          38\n        ],\n        \"semantic_type\": \"\",\n        \"description\": \"\"\n      }\n    },\n    {\n      \"column\": \"funny\",\n      \"properties\": {\n        \"dtype\": \"number\",\n        \"std\": 1,\n        \"min\": 0,\n        \"max\": 98,\n        \"num_unique_values\": 34,\n        \"samples\": [\n          8,\n          21,\n          27\n        ],\n        \"semantic_type\": \"\",\n        \"description\": \"\"\n      }\n    },\n    {\n      \"column\": \"cool\",\n      \"properties\": {\n        \"dtype\": \"number\",\n        \"std\": 1,\n        \"min\": 0,\n        \"max\": 49,\n        \"num_unique_values\": 36,\n        \"samples\": [\n          20,\n          10,\n          25\n        ],\n        \"semantic_type\": \"\",\n        \"description\": \"\"\n      }\n    },\n    {\n      \"column\": \"text\",\n      \"properties\": {\n        \"dtype\": \"string\",\n        \"num_unique_values\": 99964,\n        \"samples\": [\n          \"We spent 4 nights here in a tent at waterside in mid-April 2015 with our 2 daughters age 10 & 13 and 2 dogs. The campground seemed well staffed and clean. Very dog friendly. There are only 3 tent sites available with water and electric. The only complaint I have is that our site had no shade at all. We would sit in the shade at a neighboring site that wasn't rented. The bathroom & showers in the rec building were very clean. One shower was out of order but I was always by myself in there so I had my pick. There is laundry in there as well, all visible from our site. The pool & hot tub area is nice, the bathrooms not as nice as the rec building. There are peddle cars for kids to rent. They have several different wifi networks but we couldn't get any of them to work with both Android & Apple devices.\",\n          \"Finally a casino in Arizona that appreciates Blackjack players!!! \\n\\nWith a Player's Club that is second to none, there is, in my opinion, no other hotel/casino combo in Arizona that can match Casino del Sol.  \\n\\nThe property itself is beautiful.  The hotel lobby is a welcome retreat from the casino floor.  Guest rooms are spacious and well-appointed.\\n\\nI rarely play slots but from I could see walking around, they seem to have better than average payouts.\\n\\nI love Blackjack and if you're willing to bet at the higher limit tables ($25 minimum) you will be rewarded with 3-deck shoes; which narrows the casino edge.\\n\\nRestaurants are good.  I like Abuelita's (quick & tasty Mexican options.  Festa Buffet is great option.  Ume was decent as well.\\n\\nEven though I live in Phoenix, I'd rather make the drive to Tucson and play in a casino that appreciates and rewards me for my play.\",\n          \"One of the top tier spa's in Reno. When I stayed at other suites in the area, they were trash compared to this gem. The Tuscany rooms cannot be beat! Courteous staff and no 2 hrs waiting in line to check in\"\n        ],\n        \"semantic_type\": \"\",\n        \"description\": \"\"\n      }\n    },\n    {\n      \"column\": \"date\",\n      \"properties\": {\n        \"dtype\": \"date\",\n        \"min\": \"2005-03-01 17:47:15\",\n        \"max\": \"2018-10-04 18:22:35\",\n        \"num_unique_values\": 99906,\n        \"samples\": [\n          \"2017-12-03 18:58:21\",\n          \"2016-08-05 17:31:35\",\n          \"2014-12-21 13:19:08\"\n        ],\n        \"semantic_type\": \"\",\n        \"description\": \"\"\n      }\n    },\n    {\n      \"column\": \"clean_text\",\n      \"properties\": {\n        \"dtype\": \"string\",\n        \"num_unique_values\": 99962,\n        \"samples\": [\n          \"i love this place i am a local and i go out on a trip probably once a month i always catch fish and the staff is very knowledgeable about fishing and helpful with rigging up fishing poles\",\n          \"i am sort of a sushi snob \\n\\nim going to be honest this was literally the worst sushi ive ever had  it was warm warm and no it wasnt tempura\\n\\ni also paid  for a side salad which was literally iceberg lettuce \\n\\nnope no spring mixno romaineno iceberg with slivers of carrots or even purple cabbage literally just iceberg i was puzzled and then angry and then i had to smirk and whisper well played my friend well played\\n\\ni will never be back\\n\\ncheck and mate\",\n          \"sunday jazz cruise without the lunch heard people say the lunch was good but id wager that lunch in the french quarter would be better  blocks away \\n\\nthere wasnt too much to see but it is nice to slow down the trip a bit and unwind on the only working steamboat in the area creole queen is not a steamboat tour guide over the speakers is unobtrusive but does tell some interesting about nola and the surrounding communities \\n\\ngo inside and check out the jazz band and the engine room downstairs all in all a good trip for just \"\n        ],\n        \"semantic_type\": \"\",\n        \"description\": \"\"\n      }\n    },\n    {\n      \"column\": \"sentiment\",\n      \"properties\": {\n        \"dtype\": \"number\",\n        \"std\": 0.22770355227924782,\n        \"min\": -1.0,\n        \"max\": 1.0,\n        \"num_unique_values\": 56478,\n        \"samples\": [\n          0.3073529411764706,\n          0.09600340136054422,\n          0.14448390151515153\n        ],\n        \"semantic_type\": \"\",\n        \"description\": \"\"\n      }\n    },\n    {\n      \"column\": \"tokens\",\n      \"properties\": {\n        \"dtype\": \"object\",\n        \"semantic_type\": \"\",\n        \"description\": \"\"\n      }\n    }\n  ]\n}"
            }
          },
          "metadata": {},
          "execution_count": 15
        }
      ]
    },
    {
      "cell_type": "code",
      "source": [
        "\n",
        "word2vec_model = api.load('word2vec-google-news-300')\n"
      ],
      "metadata": {
        "colab": {
          "base_uri": "https://localhost:8080/"
        },
        "id": "TxiV1mjDpTS4",
        "outputId": "851446d4-0d6e-40e0-a89a-794f22a713d3"
      },
      "execution_count": 16,
      "outputs": [
        {
          "output_type": "stream",
          "name": "stdout",
          "text": [
            "[==================================================] 100.0% 1662.8/1662.8MB downloaded\n"
          ]
        }
      ]
    },
    {
      "cell_type": "code",
      "source": [
        "import numpy as np\n",
        "def get_review_embedding(tokens, model, embedding_dim=300):\n",
        "    valid_embeddings = [model[word] for word in tokens if word in model]\n",
        "    if len(valid_embeddings) == 0:\n",
        "        return np.zeros(embedding_dim)\n",
        "    return np.mean(valid_embeddings, axis=0)\n",
        "\n",
        "# Compute embeddings for each review\n",
        "df['embedding'] = df['tokens'].apply(lambda tokens: get_review_embedding(tokens, word2vec_model))"
      ],
      "metadata": {
        "id": "J0MTZyJepW5z"
      },
      "execution_count": 19,
      "outputs": []
    },
    {
      "cell_type": "code",
      "source": [
        "X = np.array(list(df['embedding']))\n",
        "y = df['sentiment'].values\n"
      ],
      "metadata": {
        "id": "tYWb0cWf4Gcr"
      },
      "execution_count": 20,
      "outputs": []
    },
    {
      "cell_type": "code",
      "source": [
        "# Split into training and testing sets\n",
        "X_train, X_test, y_train, y_test = train_test_split(X, y, test_size=0.2, random_state=42)\n",
        "\n",
        "# Verify the shapes\n",
        "print(f'Training data shape: {X_train.shape}')\n",
        "print(f'Testing data shape: {X_test.shape}')\n",
        "\n"
      ],
      "metadata": {
        "id": "4GsI6AY-paNY",
        "colab": {
          "base_uri": "https://localhost:8080/"
        },
        "outputId": "23d72b83-50bd-4098-d481-05ae70a5498c"
      },
      "execution_count": 21,
      "outputs": [
        {
          "output_type": "stream",
          "name": "stdout",
          "text": [
            "Training data shape: (80000, 300)\n",
            "Testing data shape: (20000, 300)\n"
          ]
        }
      ]
    },
    {
      "cell_type": "code",
      "source": [
        "zero_vectors = np.sum(np.all(X == 0, axis=1))\n",
        "print(f'Number of reviews with zero vectors: {zero_vectors}')"
      ],
      "metadata": {
        "id": "y8cqunrXpdvs",
        "colab": {
          "base_uri": "https://localhost:8080/"
        },
        "outputId": "20018d47-fbfb-4034-8fbb-472fcf7f7ef7"
      },
      "execution_count": 22,
      "outputs": [
        {
          "output_type": "stream",
          "name": "stdout",
          "text": [
            "Number of reviews with zero vectors: 4\n"
          ]
        }
      ]
    },
    {
      "cell_type": "code",
      "source": [
        "X[:5]  # shows the first 5 rows of the array\n"
      ],
      "metadata": {
        "colab": {
          "base_uri": "https://localhost:8080/"
        },
        "id": "O4aw84UR61bV",
        "outputId": "c305dda8-0df8-4cd7-ef67-9069cd8751b8"
      },
      "execution_count": 25,
      "outputs": [
        {
          "output_type": "execute_result",
          "data": {
            "text/plain": [
              "array([[ 0.01518888,  0.08333712, -0.02304539, ..., -0.04966736,\n",
              "         0.03500242, -0.00685439],\n",
              "       [ 0.01511211,  0.0466938 ,  0.03341856, ..., -0.04184151,\n",
              "        -0.03800297, -0.01502419],\n",
              "       [-0.0431368 ,  0.04014206, -0.02630374, ..., -0.03028508,\n",
              "         0.04084251,  0.01507408],\n",
              "       [-0.03222102,  0.04182573,  0.05274686, ..., -0.05110862,\n",
              "         0.03474981,  0.05480957],\n",
              "       [-0.03720373,  0.07330322, -0.01562093, ..., -0.03913218,\n",
              "         0.04599418, -0.01769034]])"
            ]
          },
          "metadata": {},
          "execution_count": 25
        }
      ]
    }
  ]
}