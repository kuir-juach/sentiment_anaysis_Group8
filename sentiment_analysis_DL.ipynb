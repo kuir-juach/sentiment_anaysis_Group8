{
  "cells": [
    {
      "cell_type": "markdown",
      "metadata": {
        "colab_type": "text",
        "id": "view-in-github"
      },
      "source": [
        "<a href=\"https://colab.research.google.com/github/kuir-juach/sentiment_anaysis_Group8/blob/main/sentiment_analysis_dl_model.ipynb\" target=\"_parent\"><img src=\"https://colab.research.google.com/assets/colab-badge.svg\" alt=\"Open In Colab\"/></a>"
      ]
    },
    {
      "cell_type": "code",
      "execution_count": 2,
      "metadata": {
        "colab": {
          "base_uri": "https://localhost:8080/"
        },
        "id": "MXOihsBSJW0t",
        "outputId": "c6a385ec-fd8d-4a11-9f89-77daea96aef5"
      },
      "outputs": [
        {
          "name": "stdout",
          "output_type": "stream",
          "text": [
            "Mounted at /content/drive\n"
          ]
        }
      ],
      "source": [
        "from google.colab import drive\n",
        "drive.mount('/content/drive')"
      ]
    },
    {
      "cell_type": "code",
      "execution_count": 3,
      "metadata": {
        "colab": {
          "base_uri": "https://localhost:8080/"
        },
        "id": "syRyOk-aP_60",
        "outputId": "8d1ec18e-51cd-40cd-98d0-9344a3869557"
      },
      "outputs": [
        {
          "name": "stdout",
          "output_type": "stream",
          "text": [
            "\u001b[33mWARNING: Skipping gensim as it is not installed.\u001b[0m\u001b[33m\n",
            "\u001b[0mFound existing installation: numpy 2.0.2\n",
            "Uninstalling numpy-2.0.2:\n",
            "  Successfully uninstalled numpy-2.0.2\n",
            "Collecting gensim\n",
            "  Downloading gensim-4.3.3-cp311-cp311-manylinux_2_17_x86_64.manylinux2014_x86_64.whl.metadata (8.1 kB)\n",
            "Collecting numpy\n",
            "  Downloading numpy-2.3.0-cp311-cp311-manylinux_2_28_x86_64.whl.metadata (62 kB)\n",
            "\u001b[2K     \u001b[90m━━━━━━━━━━━━━━━━━━━━━━━━━━━━━━━━━━━━━━━━\u001b[0m \u001b[32m62.1/62.1 kB\u001b[0m \u001b[31m5.2 MB/s\u001b[0m eta \u001b[36m0:00:00\u001b[0m\n",
            "\u001b[?25h  Downloading numpy-1.26.4-cp311-cp311-manylinux_2_17_x86_64.manylinux2014_x86_64.whl.metadata (61 kB)\n",
            "\u001b[2K     \u001b[90m━━━━━━━━━━━━━━━━━━━━━━━━━━━━━━━━━━━━━━━━\u001b[0m \u001b[32m61.0/61.0 kB\u001b[0m \u001b[31m5.4 MB/s\u001b[0m eta \u001b[36m0:00:00\u001b[0m\n",
            "\u001b[?25hCollecting scipy<1.14.0,>=1.7.0 (from gensim)\n",
            "  Downloading scipy-1.13.1-cp311-cp311-manylinux_2_17_x86_64.manylinux2014_x86_64.whl.metadata (60 kB)\n",
            "\u001b[2K     \u001b[90m━━━━━━━━━━━━━━━━━━━━━━━━━━━━━━━━━━━━━━━\u001b[0m \u001b[32m60.6/60.6 kB\u001b[0m \u001b[31m232.3 MB/s\u001b[0m eta \u001b[36m0:00:00\u001b[0m\n",
            "\u001b[?25hRequirement already satisfied: smart-open>=1.8.1 in /usr/local/lib/python3.11/dist-packages (from gensim) (7.1.0)\n",
            "Requirement already satisfied: wrapt in /usr/local/lib/python3.11/dist-packages (from smart-open>=1.8.1->gensim) (1.17.2)\n",
            "Downloading gensim-4.3.3-cp311-cp311-manylinux_2_17_x86_64.manylinux2014_x86_64.whl (26.7 MB)\n",
            "\u001b[2K   \u001b[90m━━━━━━━━━━━━━━━━━━━━━━━━━━━━━━━━━━━━━━━━\u001b[0m \u001b[32m26.7/26.7 MB\u001b[0m \u001b[31m250.9 MB/s\u001b[0m eta \u001b[36m0:00:00\u001b[0m\n",
            "\u001b[?25hDownloading numpy-1.26.4-cp311-cp311-manylinux_2_17_x86_64.manylinux2014_x86_64.whl (18.3 MB)\n",
            "\u001b[2K   \u001b[90m━━━━━━━━━━━━━━━━━━━━━━━━━━━━━━━━━━━━━━━━\u001b[0m \u001b[32m18.3/18.3 MB\u001b[0m \u001b[31m199.4 MB/s\u001b[0m eta \u001b[36m0:00:00\u001b[0m\n",
            "\u001b[?25hDownloading scipy-1.13.1-cp311-cp311-manylinux_2_17_x86_64.manylinux2014_x86_64.whl (38.6 MB)\n",
            "\u001b[2K   \u001b[90m━━━━━━━━━━━━━━━━━━━━━━━━━━━━━━━━━━━━━━━━\u001b[0m \u001b[32m38.6/38.6 MB\u001b[0m \u001b[31m227.0 MB/s\u001b[0m eta \u001b[36m0:00:00\u001b[0m\n",
            "\u001b[?25hInstalling collected packages: numpy, scipy, gensim\n",
            "  Attempting uninstall: scipy\n",
            "    Found existing installation: scipy 1.15.3\n",
            "    Uninstalling scipy-1.15.3:\n",
            "      Successfully uninstalled scipy-1.15.3\n",
            "\u001b[31mERROR: pip's dependency resolver does not currently take into account all the packages that are installed. This behaviour is the source of the following dependency conflicts.\n",
            "thinc 8.3.6 requires numpy<3.0.0,>=2.0.0, but you have numpy 1.26.4 which is incompatible.\n",
            "tsfresh 0.21.0 requires scipy>=1.14.0; python_version >= \"3.10\", but you have scipy 1.13.1 which is incompatible.\u001b[0m\u001b[31m\n",
            "\u001b[0mSuccessfully installed gensim-4.3.3 numpy-1.26.4 scipy-1.13.1\n",
            "Requirement already satisfied: wordcloud in /usr/local/lib/python3.11/dist-packages (1.9.4)\n",
            "Requirement already satisfied: textblob in /usr/local/lib/python3.11/dist-packages (0.19.0)\n",
            "Requirement already satisfied: numpy>=1.6.1 in /usr/local/lib/python3.11/dist-packages (from wordcloud) (1.26.4)\n",
            "Requirement already satisfied: pillow in /usr/local/lib/python3.11/dist-packages (from wordcloud) (11.2.1)\n",
            "Requirement already satisfied: matplotlib in /usr/local/lib/python3.11/dist-packages (from wordcloud) (3.10.0)\n",
            "Requirement already satisfied: nltk>=3.9 in /usr/local/lib/python3.11/dist-packages (from textblob) (3.9.1)\n",
            "Requirement already satisfied: click in /usr/local/lib/python3.11/dist-packages (from nltk>=3.9->textblob) (8.2.1)\n",
            "Requirement already satisfied: joblib in /usr/local/lib/python3.11/dist-packages (from nltk>=3.9->textblob) (1.5.1)\n",
            "Requirement already satisfied: regex>=2021.8.3 in /usr/local/lib/python3.11/dist-packages (from nltk>=3.9->textblob) (2024.11.6)\n",
            "Requirement already satisfied: tqdm in /usr/local/lib/python3.11/dist-packages (from nltk>=3.9->textblob) (4.67.1)\n",
            "Requirement already satisfied: contourpy>=1.0.1 in /usr/local/lib/python3.11/dist-packages (from matplotlib->wordcloud) (1.3.2)\n",
            "Requirement already satisfied: cycler>=0.10 in /usr/local/lib/python3.11/dist-packages (from matplotlib->wordcloud) (0.12.1)\n",
            "Requirement already satisfied: fonttools>=4.22.0 in /usr/local/lib/python3.11/dist-packages (from matplotlib->wordcloud) (4.58.1)\n",
            "Requirement already satisfied: kiwisolver>=1.3.1 in /usr/local/lib/python3.11/dist-packages (from matplotlib->wordcloud) (1.4.8)\n",
            "Requirement already satisfied: packaging>=20.0 in /usr/local/lib/python3.11/dist-packages (from matplotlib->wordcloud) (24.2)\n",
            "Requirement already satisfied: pyparsing>=2.3.1 in /usr/local/lib/python3.11/dist-packages (from matplotlib->wordcloud) (3.2.3)\n",
            "Requirement already satisfied: python-dateutil>=2.7 in /usr/local/lib/python3.11/dist-packages (from matplotlib->wordcloud) (2.9.0.post0)\n",
            "Requirement already satisfied: six>=1.5 in /usr/local/lib/python3.11/dist-packages (from python-dateutil>=2.7->matplotlib->wordcloud) (1.17.0)\n"
          ]
        }
      ],
      "source": [
        "# Uninstall existing versions of gensim and numpy\n",
        "!pip uninstall -y gensim numpy\n",
        "\n",
        "# Reinstall gensim and numpy cleanly\n",
        "!pip install --no-cache-dir gensim numpy\n",
        "\n",
        "!pip install wordcloud textblob"
      ]
    },
    {
      "cell_type": "code",
      "execution_count": 1,
      "metadata": {
        "id": "1vjjrruPXtU_"
      },
      "outputs": [],
      "source": [
        "import pandas as pd\n",
        "import numpy as np\n",
        "import matplotlib.pyplot as plt\n",
        "import seaborn as sns\n",
        "from wordcloud import WordCloud\n",
        "import re\n",
        "import nltk\n",
        "from nltk.corpus import stopwords\n",
        "from sklearn.model_selection import train_test_split\n",
        "from sklearn.feature_extraction.text import TfidfVectorizer\n",
        "import re\n",
        "from textblob import TextBlob\n",
        "from nltk.tokenize import word_tokenize\n",
        "import gensim.downloader as api\n",
        "from gensim.models import KeyedVectors"
      ]
    },
    {
      "cell_type": "code",
      "execution_count": 2,
      "metadata": {
        "id": "GfvtWU1_NKHu"
      },
      "outputs": [],
      "source": [
        "# File paths\n",
        "json_path = '/content/drive/MyDrive/2025-02/yelp_academic_dataset_review.json'\n",
        "csv_path = '/content/drive/MyDrive/2025-02/yelp_reviews_sample.csv'\n",
        "\n",
        "# Read and save the first chunk (e.g. 100,000 rows)\n",
        "# chunk = pd.read_json(json_path, lines=True, chunksize=100000)\n",
        "# first_chunk = next(chunk)\n",
        "# first_chunk.to_csv(csv_path, index=False)\n",
        "first_chunk = pd.read_csv(csv_path)"
      ]
    },
    {
      "cell_type": "code",
      "execution_count": 3,
      "metadata": {
        "colab": {
          "base_uri": "https://localhost:8080/"
        },
        "id": "dIXICUAhX0c9",
        "outputId": "b5913b9d-e089-4a68-bffd-288ddd52760f"
      },
      "outputs": [
        {
          "name": "stderr",
          "output_type": "stream",
          "text": [
            "[nltk_data] Downloading package stopwords to /root/nltk_data...\n",
            "[nltk_data]   Package stopwords is already up-to-date!\n",
            "[nltk_data] Downloading package punkt to /root/nltk_data...\n",
            "[nltk_data]   Package punkt is already up-to-date!\n",
            "[nltk_data] Downloading package punkt_tab to /root/nltk_data...\n",
            "[nltk_data]   Package punkt_tab is already up-to-date!\n"
          ]
        },
        {
          "data": {
            "text/plain": [
              "True"
            ]
          },
          "execution_count": 3,
          "metadata": {},
          "output_type": "execute_result"
        }
      ],
      "source": [
        "nltk.download('stopwords')\n",
        "nltk.download('punkt')\n",
        "nltk.download('punkt_tab')"
      ]
    },
    {
      "cell_type": "code",
      "execution_count": 4,
      "metadata": {
        "id": "EyZUfCAcX4aZ"
      },
      "outputs": [],
      "source": [
        "df = first_chunk.head(6500).copy()"
      ]
    },
    {
      "cell_type": "code",
      "execution_count": 5,
      "metadata": {
        "colab": {
          "base_uri": "https://localhost:8080/"
        },
        "id": "SxLRsP7YX9mY",
        "outputId": "9cfa9e49-91c5-498c-f0b6-62b9b4c67e73"
      },
      "outputs": [
        {
          "data": {
            "text/plain": [
              "Index(['review_id', 'user_id', 'business_id', 'stars', 'useful', 'funny',\n",
              "       'cool', 'text', 'date'],\n",
              "      dtype='object')"
            ]
          },
          "execution_count": 5,
          "metadata": {},
          "output_type": "execute_result"
        }
      ],
      "source": [
        "df.columns\n"
      ]
    },
    {
      "cell_type": "code",
      "execution_count": 6,
      "metadata": {
        "colab": {
          "base_uri": "https://localhost:8080/"
        },
        "id": "8_7m9fxjY0Eq",
        "outputId": "cce20fea-abb8-4a04-89d0-084cf4b1180a"
      },
      "outputs": [
        {
          "name": "stdout",
          "output_type": "stream",
          "text": [
            "             stars       useful        funny         cool\n",
            "count  6500.000000  6500.000000  6500.000000  6500.000000\n",
            "mean      3.850462     0.882462     0.258154     0.336923\n",
            "std       1.350468     1.866535     0.948498     0.969463\n",
            "min       1.000000     0.000000     0.000000     0.000000\n",
            "25%       3.000000     0.000000     0.000000     0.000000\n",
            "50%       4.000000     0.000000     0.000000     0.000000\n",
            "75%       5.000000     1.000000     0.000000     0.000000\n",
            "max       5.000000    61.000000    26.000000    13.000000\n",
            "review_id      0\n",
            "user_id        0\n",
            "business_id    0\n",
            "stars          0\n",
            "useful         0\n",
            "funny          0\n",
            "cool           0\n",
            "text           0\n",
            "date           0\n",
            "dtype: int64\n"
          ]
        }
      ],
      "source": [
        "print(df.describe())\n",
        "print(df.isnull().sum())"
      ]
    },
    {
      "cell_type": "code",
      "execution_count": 7,
      "metadata": {
        "id": "171i9X6EZNop"
      },
      "outputs": [],
      "source": [
        "df['date'] = pd.to_datetime(df['date'])"
      ]
    },
    {
      "cell_type": "code",
      "execution_count": 8,
      "metadata": {
        "id": "MpDQnoZfZQqB"
      },
      "outputs": [],
      "source": [
        "df['clean_text'] = df['text'].apply(lambda x: re.sub(r'[^a-zA-Z\\s]', '', x.lower()))"
      ]
    },
    {
      "cell_type": "code",
      "execution_count": 9,
      "metadata": {
        "id": "E0S35Qk2xNGT"
      },
      "outputs": [],
      "source": [
        "df['label'] = df['stars'].apply(lambda x: 1 if x >= 4 else 0)"
      ]
    },
    {
      "cell_type": "code",
      "execution_count": 10,
      "metadata": {
        "colab": {
          "base_uri": "https://localhost:8080/",
          "height": 205
        },
        "id": "_87ZdZu8ZbB-",
        "outputId": "ff2d5050-a758-43df-b09d-e4a231789e5b"
      },
      "outputs": [
        {
          "data": {
            "application/vnd.google.colaboratory.intrinsic+json": {
              "summary": "{\n  \"name\": \"df\",\n  \"rows\": 6500,\n  \"fields\": [\n    {\n      \"column\": \"review_id\",\n      \"properties\": {\n        \"dtype\": \"string\",\n        \"num_unique_values\": 6500,\n        \"samples\": [\n          \"00n7AuDDL8Ft3gyNdUTtvQ\",\n          \"gW-vFoXYaUxLqPpLw2gaOw\",\n          \"SigY5T1neL5CQZSSMBHkYA\"\n        ],\n        \"semantic_type\": \"\",\n        \"description\": \"\"\n      }\n    },\n    {\n      \"column\": \"user_id\",\n      \"properties\": {\n        \"dtype\": \"string\",\n        \"num_unique_values\": 6249,\n        \"samples\": [\n          \"ioUTO-zapzvkwS3jaSR44A\",\n          \"A3gEkJ0lvC1-37KPMNTehg\",\n          \"_YBX0Fy9pI0ktOQ9RtFhAg\"\n        ],\n        \"semantic_type\": \"\",\n        \"description\": \"\"\n      }\n    },\n    {\n      \"column\": \"business_id\",\n      \"properties\": {\n        \"dtype\": \"category\",\n        \"num_unique_values\": 3112,\n        \"samples\": [\n          \"YeMouev-sLfAxykmcANNoQ\",\n          \"Ym8E4Lgi3IfH53YuG5WxIg\",\n          \"5BmQX4UVJY19mMtafMg7JA\"\n        ],\n        \"semantic_type\": \"\",\n        \"description\": \"\"\n      }\n    },\n    {\n      \"column\": \"stars\",\n      \"properties\": {\n        \"dtype\": \"number\",\n        \"std\": 1,\n        \"min\": 1,\n        \"max\": 5,\n        \"num_unique_values\": 5,\n        \"samples\": [\n          5,\n          2,\n          4\n        ],\n        \"semantic_type\": \"\",\n        \"description\": \"\"\n      }\n    },\n    {\n      \"column\": \"useful\",\n      \"properties\": {\n        \"dtype\": \"number\",\n        \"std\": 1,\n        \"min\": 0,\n        \"max\": 61,\n        \"num_unique_values\": 24,\n        \"samples\": [\n          14,\n          16,\n          0\n        ],\n        \"semantic_type\": \"\",\n        \"description\": \"\"\n      }\n    },\n    {\n      \"column\": \"funny\",\n      \"properties\": {\n        \"dtype\": \"number\",\n        \"std\": 0,\n        \"min\": 0,\n        \"max\": 26,\n        \"num_unique_values\": 15,\n        \"samples\": [\n          9,\n          10,\n          0\n        ],\n        \"semantic_type\": \"\",\n        \"description\": \"\"\n      }\n    },\n    {\n      \"column\": \"cool\",\n      \"properties\": {\n        \"dtype\": \"number\",\n        \"std\": 0,\n        \"min\": 0,\n        \"max\": 13,\n        \"num_unique_values\": 14,\n        \"samples\": [\n          8,\n          11,\n          0\n        ],\n        \"semantic_type\": \"\",\n        \"description\": \"\"\n      }\n    },\n    {\n      \"column\": \"text\",\n      \"properties\": {\n        \"dtype\": \"string\",\n        \"num_unique_values\": 6500,\n        \"samples\": [\n          \"After spending the better part of a week indulging in gluttony, New Orleans-style, we were looking for something light, fresh, casual, and inexpensive. Our local friend pointed us to Lilly's. She said the woman who used to do here nails at the salon had opened a great Vietnamese restaurant.\\n\\nAs soon as we walked in we were greeted by an energetic, friendly woman (Lilly herself?). It was like dining at the home of your favorite aunt; she was pleasantly chatty, enthusiastic, and attentive.\\n\\nWe started out with the spring rolls, which were light and refreshing (these are the ones with soft rice paper, not fried). For our main course I had the grilled beef vermicelli and my girlfriend got the shrimp salad. I'm usually skeptical of ordering salads at Asian restaurants because they often seem to be throw-aways designed to make the menu more friendly to a western eye, but this one was delicious. The shrimp were grilled perfectly and it had a great sweet-spicy-smoky dressing (wish I knew what was in it).\\n\\nAttention to detail set Lilly's apart. Lightly fried slivers of garlic, perfectly grilled shrimp, fresh chunks of strawberry in the salad -- all the ingredients were carefully selected and prepared lovingly. For a fresh, casual lunch you couldn't do much better.\",\n          \"Only game in town.  I occasionally like to go here because they have fabulous crab cakes.  However, three stars because the service was so god awful.  We were there on a Tuesday night & the restaurant was not crowded.  It took 1hour and 15 minutes to receive our entrees.  No joke.  Of those entrees, two were kids' meals and one was a cheeseburger.  The food was fine...but really 45 minutes to wait for a salad?  We were told that the delay was b/c we ordered wings first and there was a table of 10 in the other room.  OK...It wasn't until i suggested that they bring the kids' meals after 45 minutes that the waitress even figured out something might be wrong.  Save your money...stay home for Kraft mac n cheese next time.\",\n          \"Be careful.  This place just wants your money, not your business.  They deal only in cash and are very reluctant to take returns.  And I'm sure that they don't only take cash only from the large contractors... probably just the little guys.  \\nThey sell damaged items.  Check your stuff very well before you leave, because you will not be able to bring it back if you discover that they have slipped you the ole' damaged door!\\n\\nI do not recommend this place.  Don't support them.  Not at all.\"\n        ],\n        \"semantic_type\": \"\",\n        \"description\": \"\"\n      }\n    },\n    {\n      \"column\": \"date\",\n      \"properties\": {\n        \"dtype\": \"date\",\n        \"min\": \"2005-03-09 06:37:47\",\n        \"max\": \"2018-10-04 18:10:01\",\n        \"num_unique_values\": 6495,\n        \"samples\": [\n          \"2016-07-25 21:36:07\",\n          \"2014-04-01 09:02:55\",\n          \"2011-07-28 12:45:48\"\n        ],\n        \"semantic_type\": \"\",\n        \"description\": \"\"\n      }\n    },\n    {\n      \"column\": \"clean_text\",\n      \"properties\": {\n        \"dtype\": \"string\",\n        \"num_unique_values\": 6500,\n        \"samples\": [\n          \"after spending the better part of a week indulging in gluttony new orleansstyle we were looking for something light fresh casual and inexpensive our local friend pointed us to lillys she said the woman who used to do here nails at the salon had opened a great vietnamese restaurant\\n\\nas soon as we walked in we were greeted by an energetic friendly woman lilly herself it was like dining at the home of your favorite aunt she was pleasantly chatty enthusiastic and attentive\\n\\nwe started out with the spring rolls which were light and refreshing these are the ones with soft rice paper not fried for our main course i had the grilled beef vermicelli and my girlfriend got the shrimp salad im usually skeptical of ordering salads at asian restaurants because they often seem to be throwaways designed to make the menu more friendly to a western eye but this one was delicious the shrimp were grilled perfectly and it had a great sweetspicysmoky dressing wish i knew what was in it\\n\\nattention to detail set lillys apart lightly fried slivers of garlic perfectly grilled shrimp fresh chunks of strawberry in the salad  all the ingredients were carefully selected and prepared lovingly for a fresh casual lunch you couldnt do much better\",\n          \"only game in town  i occasionally like to go here because they have fabulous crab cakes  however three stars because the service was so god awful  we were there on a tuesday night  the restaurant was not crowded  it took hour and  minutes to receive our entrees  no joke  of those entrees two were kids meals and one was a cheeseburger  the food was finebut really  minutes to wait for a salad  we were told that the delay was bc we ordered wings first and there was a table of  in the other room  okit wasnt until i suggested that they bring the kids meals after  minutes that the waitress even figured out something might be wrong  save your moneystay home for kraft mac n cheese next time\",\n          \"be careful  this place just wants your money not your business  they deal only in cash and are very reluctant to take returns  and im sure that they dont only take cash only from the large contractors probably just the little guys  \\nthey sell damaged items  check your stuff very well before you leave because you will not be able to bring it back if you discover that they have slipped you the ole damaged door\\n\\ni do not recommend this place  dont support them  not at all\"\n        ],\n        \"semantic_type\": \"\",\n        \"description\": \"\"\n      }\n    },\n    {\n      \"column\": \"label\",\n      \"properties\": {\n        \"dtype\": \"number\",\n        \"std\": 0,\n        \"min\": 0,\n        \"max\": 1,\n        \"num_unique_values\": 2,\n        \"samples\": [\n          1,\n          0\n        ],\n        \"semantic_type\": \"\",\n        \"description\": \"\"\n      }\n    }\n  ]\n}",
              "type": "dataframe",
              "variable_name": "df"
            },
            "text/html": [
              "\n",
              "  <div id=\"df-4d3cced9-353f-468e-a1a8-269995304271\" class=\"colab-df-container\">\n",
              "    <div>\n",
              "<style scoped>\n",
              "    .dataframe tbody tr th:only-of-type {\n",
              "        vertical-align: middle;\n",
              "    }\n",
              "\n",
              "    .dataframe tbody tr th {\n",
              "        vertical-align: top;\n",
              "    }\n",
              "\n",
              "    .dataframe thead th {\n",
              "        text-align: right;\n",
              "    }\n",
              "</style>\n",
              "<table border=\"1\" class=\"dataframe\">\n",
              "  <thead>\n",
              "    <tr style=\"text-align: right;\">\n",
              "      <th></th>\n",
              "      <th>review_id</th>\n",
              "      <th>user_id</th>\n",
              "      <th>business_id</th>\n",
              "      <th>stars</th>\n",
              "      <th>useful</th>\n",
              "      <th>funny</th>\n",
              "      <th>cool</th>\n",
              "      <th>text</th>\n",
              "      <th>date</th>\n",
              "      <th>clean_text</th>\n",
              "      <th>label</th>\n",
              "    </tr>\n",
              "  </thead>\n",
              "  <tbody>\n",
              "    <tr>\n",
              "      <th>0</th>\n",
              "      <td>KU_O5udG6zpxOg-VcAEodg</td>\n",
              "      <td>mh_-eMZ6K5RLWhZyISBhwA</td>\n",
              "      <td>XQfwVwDr-v0ZS3_CbbE5Xw</td>\n",
              "      <td>3</td>\n",
              "      <td>0</td>\n",
              "      <td>0</td>\n",
              "      <td>0</td>\n",
              "      <td>If you decide to eat here, just be aware it is...</td>\n",
              "      <td>2018-07-07 22:09:11</td>\n",
              "      <td>if you decide to eat here just be aware it is ...</td>\n",
              "      <td>0</td>\n",
              "    </tr>\n",
              "  </tbody>\n",
              "</table>\n",
              "</div>\n",
              "    <div class=\"colab-df-buttons\">\n",
              "\n",
              "  <div class=\"colab-df-container\">\n",
              "    <button class=\"colab-df-convert\" onclick=\"convertToInteractive('df-4d3cced9-353f-468e-a1a8-269995304271')\"\n",
              "            title=\"Convert this dataframe to an interactive table.\"\n",
              "            style=\"display:none;\">\n",
              "\n",
              "  <svg xmlns=\"http://www.w3.org/2000/svg\" height=\"24px\" viewBox=\"0 -960 960 960\">\n",
              "    <path d=\"M120-120v-720h720v720H120Zm60-500h600v-160H180v160Zm220 220h160v-160H400v160Zm0 220h160v-160H400v160ZM180-400h160v-160H180v160Zm440 0h160v-160H620v160ZM180-180h160v-160H180v160Zm440 0h160v-160H620v160Z\"/>\n",
              "  </svg>\n",
              "    </button>\n",
              "\n",
              "  <style>\n",
              "    .colab-df-container {\n",
              "      display:flex;\n",
              "      gap: 12px;\n",
              "    }\n",
              "\n",
              "    .colab-df-convert {\n",
              "      background-color: #E8F0FE;\n",
              "      border: none;\n",
              "      border-radius: 50%;\n",
              "      cursor: pointer;\n",
              "      display: none;\n",
              "      fill: #1967D2;\n",
              "      height: 32px;\n",
              "      padding: 0 0 0 0;\n",
              "      width: 32px;\n",
              "    }\n",
              "\n",
              "    .colab-df-convert:hover {\n",
              "      background-color: #E2EBFA;\n",
              "      box-shadow: 0px 1px 2px rgba(60, 64, 67, 0.3), 0px 1px 3px 1px rgba(60, 64, 67, 0.15);\n",
              "      fill: #174EA6;\n",
              "    }\n",
              "\n",
              "    .colab-df-buttons div {\n",
              "      margin-bottom: 4px;\n",
              "    }\n",
              "\n",
              "    [theme=dark] .colab-df-convert {\n",
              "      background-color: #3B4455;\n",
              "      fill: #D2E3FC;\n",
              "    }\n",
              "\n",
              "    [theme=dark] .colab-df-convert:hover {\n",
              "      background-color: #434B5C;\n",
              "      box-shadow: 0px 1px 3px 1px rgba(0, 0, 0, 0.15);\n",
              "      filter: drop-shadow(0px 1px 2px rgba(0, 0, 0, 0.3));\n",
              "      fill: #FFFFFF;\n",
              "    }\n",
              "  </style>\n",
              "\n",
              "    <script>\n",
              "      const buttonEl =\n",
              "        document.querySelector('#df-4d3cced9-353f-468e-a1a8-269995304271 button.colab-df-convert');\n",
              "      buttonEl.style.display =\n",
              "        google.colab.kernel.accessAllowed ? 'block' : 'none';\n",
              "\n",
              "      async function convertToInteractive(key) {\n",
              "        const element = document.querySelector('#df-4d3cced9-353f-468e-a1a8-269995304271');\n",
              "        const dataTable =\n",
              "          await google.colab.kernel.invokeFunction('convertToInteractive',\n",
              "                                                    [key], {});\n",
              "        if (!dataTable) return;\n",
              "\n",
              "        const docLinkHtml = 'Like what you see? Visit the ' +\n",
              "          '<a target=\"_blank\" href=https://colab.research.google.com/notebooks/data_table.ipynb>data table notebook</a>'\n",
              "          + ' to learn more about interactive tables.';\n",
              "        element.innerHTML = '';\n",
              "        dataTable['output_type'] = 'display_data';\n",
              "        await google.colab.output.renderOutput(dataTable, element);\n",
              "        const docLink = document.createElement('div');\n",
              "        docLink.innerHTML = docLinkHtml;\n",
              "        element.appendChild(docLink);\n",
              "      }\n",
              "    </script>\n",
              "  </div>\n",
              "\n",
              "\n",
              "    </div>\n",
              "  </div>\n"
            ],
            "text/plain": [
              "                review_id                 user_id             business_id  \\\n",
              "0  KU_O5udG6zpxOg-VcAEodg  mh_-eMZ6K5RLWhZyISBhwA  XQfwVwDr-v0ZS3_CbbE5Xw   \n",
              "\n",
              "   stars  useful  funny  cool  \\\n",
              "0      3       0      0     0   \n",
              "\n",
              "                                                text                date  \\\n",
              "0  If you decide to eat here, just be aware it is... 2018-07-07 22:09:11   \n",
              "\n",
              "                                          clean_text  label  \n",
              "0  if you decide to eat here just be aware it is ...      0  "
            ]
          },
          "execution_count": 10,
          "metadata": {},
          "output_type": "execute_result"
        }
      ],
      "source": [
        "df.head(1)"
      ]
    },
    {
      "cell_type": "code",
      "execution_count": 11,
      "metadata": {
        "colab": {
          "base_uri": "https://localhost:8080/",
          "height": 472
        },
        "id": "HD9zQUkbZnWl",
        "outputId": "183db799-8d2a-4b31-8bcb-22294c3db5e5"
      },
      "outputs": [
        {
          "data": {
            "image/png": "[encoded data removed]",
            "text/plain": [
              "<Figure size 640x480 with 1 Axes>"
            ]
          },
          "metadata": {},
          "output_type": "display_data"
        }
      ],
      "source": [
        "sns.countplot(x='stars', data=df)\n",
        "plt.title('Distribution of Star Ratings')\n",
        "plt.show()"
      ]
    },
    {
      "cell_type": "code",
      "execution_count": 12,
      "metadata": {
        "colab": {
          "base_uri": "https://localhost:8080/",
          "height": 452
        },
        "id": "aq-UKqSeZtJO",
        "outputId": "78d6af80-1b12-472a-ab53-ba5566bb3a67"
      },
      "outputs": [
        {
          "data": {
            "image/png": "[encoded data removed]",
            "text/plain": [
              "<Figure size 640x480 with 2 Axes>"
            ]
          },
          "metadata": {},
          "output_type": "display_data"
        }
      ],
      "source": [
        "# Correlation matrix\n",
        "correlation = df[['stars', 'useful', 'funny', 'cool']].corr()\n",
        "sns.heatmap(correlation, annot=True, cmap='coolwarm')\n",
        "plt.title('Correlation Matrix')\n",
        "plt.show()"
      ]
    },
    {
      "cell_type": "code",
      "execution_count": 13,
      "metadata": {
        "colab": {
          "base_uri": "https://localhost:8080/",
          "height": 472
        },
        "id": "85bh60_4Z8Bl",
        "outputId": "36837b29-68f5-4c02-a533-540d7697c91f"
      },
      "outputs": [
        {
          "data": {
            "image/png": "[encoded data removed]",
            "text/plain": [
              "<Figure size 640x480 with 1 Axes>"
            ]
          },
          "metadata": {},
          "output_type": "display_data"
        }
      ],
      "source": [
        "df['sentiment'] = df['text'].apply(lambda x: TextBlob(x).sentiment.polarity)\n",
        "\n",
        "# Plot sentiment vs. stars\n",
        "sns.scatterplot(x='stars', y='sentiment', data=df)\n",
        "plt.title('Sentiment Polarity vs. Star Ratings')\n",
        "plt.show()"
      ]
    },
    {
      "cell_type": "code",
      "execution_count": 14,
      "metadata": {
        "id": "_qRGXtBRh4QL"
      },
      "outputs": [],
      "source": [
        "def preprocess_text(text):\n",
        "    text = text.lower()\n",
        "    text = re.sub(r'[^a-zA-Z\\s]', '', text)\n",
        "    tokens = word_tokenize(text)\n",
        "    stop_words = set(stopwords.words('english'))\n",
        "    tokens = [word for word in tokens if word not in stop_words]\n",
        "    return tokens\n",
        "\n",
        "df['tokens'] = df['text'].apply(preprocess_text)"
      ]
    },
    {
      "cell_type": "code",
      "execution_count": 15,
      "metadata": {
        "colab": {
          "base_uri": "https://localhost:8080/",
          "height": 678
        },
        "id": "x36KcHFypmIZ",
        "outputId": "73d3123d-1841-40e4-b658-692aef83f929"
      },
      "outputs": [
        {
          "data": {
            "application/vnd.google.colaboratory.intrinsic+json": {
              "summary": "{\n  \"name\": \"df\",\n  \"rows\": 6500,\n  \"fields\": [\n    {\n      \"column\": \"review_id\",\n      \"properties\": {\n        \"dtype\": \"string\",\n        \"num_unique_values\": 6500,\n        \"samples\": [\n          \"00n7AuDDL8Ft3gyNdUTtvQ\",\n          \"gW-vFoXYaUxLqPpLw2gaOw\",\n          \"SigY5T1neL5CQZSSMBHkYA\"\n        ],\n        \"semantic_type\": \"\",\n        \"description\": \"\"\n      }\n    },\n    {\n      \"column\": \"user_id\",\n      \"properties\": {\n        \"dtype\": \"string\",\n        \"num_unique_values\": 6249,\n        \"samples\": [\n          \"ioUTO-zapzvkwS3jaSR44A\",\n          \"A3gEkJ0lvC1-37KPMNTehg\",\n          \"_YBX0Fy9pI0ktOQ9RtFhAg\"\n        ],\n        \"semantic_type\": \"\",\n        \"description\": \"\"\n      }\n    },\n    {\n      \"column\": \"business_id\",\n      \"properties\": {\n        \"dtype\": \"category\",\n        \"num_unique_values\": 3112,\n        \"samples\": [\n          \"YeMouev-sLfAxykmcANNoQ\",\n          \"Ym8E4Lgi3IfH53YuG5WxIg\",\n          \"5BmQX4UVJY19mMtafMg7JA\"\n        ],\n        \"semantic_type\": \"\",\n        \"description\": \"\"\n      }\n    },\n    {\n      \"column\": \"stars\",\n      \"properties\": {\n        \"dtype\": \"number\",\n        \"std\": 1,\n        \"min\": 1,\n        \"max\": 5,\n        \"num_unique_values\": 5,\n        \"samples\": [\n          5,\n          2,\n          4\n        ],\n        \"semantic_type\": \"\",\n        \"description\": \"\"\n      }\n    },\n    {\n      \"column\": \"useful\",\n      \"properties\": {\n        \"dtype\": \"number\",\n        \"std\": 1,\n        \"min\": 0,\n        \"max\": 61,\n        \"num_unique_values\": 24,\n        \"samples\": [\n          14,\n          16,\n          0\n        ],\n        \"semantic_type\": \"\",\n        \"description\": \"\"\n      }\n    },\n    {\n      \"column\": \"funny\",\n      \"properties\": {\n        \"dtype\": \"number\",\n        \"std\": 0,\n        \"min\": 0,\n        \"max\": 26,\n        \"num_unique_values\": 15,\n        \"samples\": [\n          9,\n          10,\n          0\n        ],\n        \"semantic_type\": \"\",\n        \"description\": \"\"\n      }\n    },\n    {\n      \"column\": \"cool\",\n      \"properties\": {\n        \"dtype\": \"number\",\n        \"std\": 0,\n        \"min\": 0,\n        \"max\": 13,\n        \"num_unique_values\": 14,\n        \"samples\": [\n          8,\n          11,\n          0\n        ],\n        \"semantic_type\": \"\",\n        \"description\": \"\"\n      }\n    },\n    {\n      \"column\": \"text\",\n      \"properties\": {\n        \"dtype\": \"string\",\n        \"num_unique_values\": 6500,\n        \"samples\": [\n          \"After spending the better part of a week indulging in gluttony, New Orleans-style, we were looking for something light, fresh, casual, and inexpensive. Our local friend pointed us to Lilly's. She said the woman who used to do here nails at the salon had opened a great Vietnamese restaurant.\\n\\nAs soon as we walked in we were greeted by an energetic, friendly woman (Lilly herself?). It was like dining at the home of your favorite aunt; she was pleasantly chatty, enthusiastic, and attentive.\\n\\nWe started out with the spring rolls, which were light and refreshing (these are the ones with soft rice paper, not fried). For our main course I had the grilled beef vermicelli and my girlfriend got the shrimp salad. I'm usually skeptical of ordering salads at Asian restaurants because they often seem to be throw-aways designed to make the menu more friendly to a western eye, but this one was delicious. The shrimp were grilled perfectly and it had a great sweet-spicy-smoky dressing (wish I knew what was in it).\\n\\nAttention to detail set Lilly's apart. Lightly fried slivers of garlic, perfectly grilled shrimp, fresh chunks of strawberry in the salad -- all the ingredients were carefully selected and prepared lovingly. For a fresh, casual lunch you couldn't do much better.\",\n          \"Only game in town.  I occasionally like to go here because they have fabulous crab cakes.  However, three stars because the service was so god awful.  We were there on a Tuesday night & the restaurant was not crowded.  It took 1hour and 15 minutes to receive our entrees.  No joke.  Of those entrees, two were kids' meals and one was a cheeseburger.  The food was fine...but really 45 minutes to wait for a salad?  We were told that the delay was b/c we ordered wings first and there was a table of 10 in the other room.  OK...It wasn't until i suggested that they bring the kids' meals after 45 minutes that the waitress even figured out something might be wrong.  Save your money...stay home for Kraft mac n cheese next time.\",\n          \"Be careful.  This place just wants your money, not your business.  They deal only in cash and are very reluctant to take returns.  And I'm sure that they don't only take cash only from the large contractors... probably just the little guys.  \\nThey sell damaged items.  Check your stuff very well before you leave, because you will not be able to bring it back if you discover that they have slipped you the ole' damaged door!\\n\\nI do not recommend this place.  Don't support them.  Not at all.\"\n        ],\n        \"semantic_type\": \"\",\n        \"description\": \"\"\n      }\n    },\n    {\n      \"column\": \"date\",\n      \"properties\": {\n        \"dtype\": \"date\",\n        \"min\": \"2005-03-09 06:37:47\",\n        \"max\": \"2018-10-04 18:10:01\",\n        \"num_unique_values\": 6495,\n        \"samples\": [\n          \"2016-07-25 21:36:07\",\n          \"2014-04-01 09:02:55\",\n          \"2011-07-28 12:45:48\"\n        ],\n        \"semantic_type\": \"\",\n        \"description\": \"\"\n      }\n    },\n    {\n      \"column\": \"clean_text\",\n      \"properties\": {\n        \"dtype\": \"string\",\n        \"num_unique_values\": 6500,\n        \"samples\": [\n          \"after spending the better part of a week indulging in gluttony new orleansstyle we were looking for something light fresh casual and inexpensive our local friend pointed us to lillys she said the woman who used to do here nails at the salon had opened a great vietnamese restaurant\\n\\nas soon as we walked in we were greeted by an energetic friendly woman lilly herself it was like dining at the home of your favorite aunt she was pleasantly chatty enthusiastic and attentive\\n\\nwe started out with the spring rolls which were light and refreshing these are the ones with soft rice paper not fried for our main course i had the grilled beef vermicelli and my girlfriend got the shrimp salad im usually skeptical of ordering salads at asian restaurants because they often seem to be throwaways designed to make the menu more friendly to a western eye but this one was delicious the shrimp were grilled perfectly and it had a great sweetspicysmoky dressing wish i knew what was in it\\n\\nattention to detail set lillys apart lightly fried slivers of garlic perfectly grilled shrimp fresh chunks of strawberry in the salad  all the ingredients were carefully selected and prepared lovingly for a fresh casual lunch you couldnt do much better\",\n          \"only game in town  i occasionally like to go here because they have fabulous crab cakes  however three stars because the service was so god awful  we were there on a tuesday night  the restaurant was not crowded  it took hour and  minutes to receive our entrees  no joke  of those entrees two were kids meals and one was a cheeseburger  the food was finebut really  minutes to wait for a salad  we were told that the delay was bc we ordered wings first and there was a table of  in the other room  okit wasnt until i suggested that they bring the kids meals after  minutes that the waitress even figured out something might be wrong  save your moneystay home for kraft mac n cheese next time\",\n          \"be careful  this place just wants your money not your business  they deal only in cash and are very reluctant to take returns  and im sure that they dont only take cash only from the large contractors probably just the little guys  \\nthey sell damaged items  check your stuff very well before you leave because you will not be able to bring it back if you discover that they have slipped you the ole damaged door\\n\\ni do not recommend this place  dont support them  not at all\"\n        ],\n        \"semantic_type\": \"\",\n        \"description\": \"\"\n      }\n    },\n    {\n      \"column\": \"label\",\n      \"properties\": {\n        \"dtype\": \"number\",\n        \"std\": 0,\n        \"min\": 0,\n        \"max\": 1,\n        \"num_unique_values\": 2,\n        \"samples\": [\n          1,\n          0\n        ],\n        \"semantic_type\": \"\",\n        \"description\": \"\"\n      }\n    },\n    {\n      \"column\": \"sentiment\",\n      \"properties\": {\n        \"dtype\": \"number\",\n        \"std\": 0.2281470048134146,\n        \"min\": -1.0,\n        \"max\": 1.0,\n        \"num_unique_values\": 5241,\n        \"samples\": [\n          0.266017316017316,\n          0.43100000000000005\n        ],\n        \"semantic_type\": \"\",\n        \"description\": \"\"\n      }\n    },\n    {\n      \"column\": \"tokens\",\n      \"properties\": {\n        \"dtype\": \"object\",\n        \"semantic_type\": \"\",\n        \"description\": \"\"\n      }\n    }\n  ]\n}",
              "type": "dataframe",
              "variable_name": "df"
            },
            "text/html": [
              "\n",
              "  <div id=\"df-c84ab234-815d-45fb-adad-bdcff207d8f1\" class=\"colab-df-container\">\n",
              "    <div>\n",
              "<style scoped>\n",
              "    .dataframe tbody tr th:only-of-type {\n",
              "        vertical-align: middle;\n",
              "    }\n",
              "\n",
              "    .dataframe tbody tr th {\n",
              "        vertical-align: top;\n",
              "    }\n",
              "\n",
              "    .dataframe thead th {\n",
              "        text-align: right;\n",
              "    }\n",
              "</style>\n",
              "<table border=\"1\" class=\"dataframe\">\n",
              "  <thead>\n",
              "    <tr style=\"text-align: right;\">\n",
              "      <th></th>\n",
              "      <th>review_id</th>\n",
              "      <th>user_id</th>\n",
              "      <th>business_id</th>\n",
              "      <th>stars</th>\n",
              "      <th>useful</th>\n",
              "      <th>funny</th>\n",
              "      <th>cool</th>\n",
              "      <th>text</th>\n",
              "      <th>date</th>\n",
              "      <th>clean_text</th>\n",
              "      <th>label</th>\n",
              "      <th>sentiment</th>\n",
              "      <th>tokens</th>\n",
              "    </tr>\n",
              "  </thead>\n",
              "  <tbody>\n",
              "    <tr>\n",
              "      <th>0</th>\n",
              "      <td>KU_O5udG6zpxOg-VcAEodg</td>\n",
              "      <td>mh_-eMZ6K5RLWhZyISBhwA</td>\n",
              "      <td>XQfwVwDr-v0ZS3_CbbE5Xw</td>\n",
              "      <td>3</td>\n",
              "      <td>0</td>\n",
              "      <td>0</td>\n",
              "      <td>0</td>\n",
              "      <td>If you decide to eat here, just be aware it is...</td>\n",
              "      <td>2018-07-07 22:09:11</td>\n",
              "      <td>if you decide to eat here just be aware it is ...</td>\n",
              "      <td>0</td>\n",
              "      <td>0.085278</td>\n",
              "      <td>[decide, eat, aware, going, take, hours, begin...</td>\n",
              "    </tr>\n",
              "    <tr>\n",
              "      <th>1</th>\n",
              "      <td>BiTunyQ73aT9WBnpR9DZGw</td>\n",
              "      <td>OyoGAe7OKpv6SyGZT5g77Q</td>\n",
              "      <td>7ATYjTIgM3jUlt4UM3IypQ</td>\n",
              "      <td>5</td>\n",
              "      <td>1</td>\n",
              "      <td>0</td>\n",
              "      <td>1</td>\n",
              "      <td>I've taken a lot of spin classes over the year...</td>\n",
              "      <td>2012-01-03 15:28:18</td>\n",
              "      <td>ive taken a lot of spin classes over the years...</td>\n",
              "      <td>1</td>\n",
              "      <td>0.402273</td>\n",
              "      <td>[ive, taken, lot, spin, classes, years, nothin...</td>\n",
              "    </tr>\n",
              "    <tr>\n",
              "      <th>2</th>\n",
              "      <td>saUsX_uimxRlCVr67Z4Jig</td>\n",
              "      <td>8g_iMtfSiwikVnbP2etR0A</td>\n",
              "      <td>YjUWPpI6HXG530lwP-fb2A</td>\n",
              "      <td>3</td>\n",
              "      <td>0</td>\n",
              "      <td>0</td>\n",
              "      <td>0</td>\n",
              "      <td>Family diner. Had the buffet. Eclectic assortm...</td>\n",
              "      <td>2014-02-05 20:30:30</td>\n",
              "      <td>family diner had the buffet eclectic assortmen...</td>\n",
              "      <td>0</td>\n",
              "      <td>0.139935</td>\n",
              "      <td>[family, diner, buffet, eclectic, assortment, ...</td>\n",
              "    </tr>\n",
              "    <tr>\n",
              "      <th>3</th>\n",
              "      <td>AqPFMleE6RsU23_auESxiA</td>\n",
              "      <td>_7bHUi9Uuf5__HHc_Q8guQ</td>\n",
              "      <td>kxX2SOes4o-D3ZQBkiMRfA</td>\n",
              "      <td>5</td>\n",
              "      <td>1</td>\n",
              "      <td>0</td>\n",
              "      <td>1</td>\n",
              "      <td>Wow!  Yummy, different,  delicious.   Our favo...</td>\n",
              "      <td>2015-01-04 00:01:03</td>\n",
              "      <td>wow  yummy different  delicious   our favorite...</td>\n",
              "      <td>1</td>\n",
              "      <td>0.302557</td>\n",
              "      <td>[wow, yummy, different, delicious, favorite, l...</td>\n",
              "    </tr>\n",
              "    <tr>\n",
              "      <th>4</th>\n",
              "      <td>Sx8TMOWLNuJBWer-0pcmoA</td>\n",
              "      <td>bcjbaE6dDog4jkNY91ncLQ</td>\n",
              "      <td>e4Vwtrqf-wpJfwesgvdgxQ</td>\n",
              "      <td>4</td>\n",
              "      <td>1</td>\n",
              "      <td>0</td>\n",
              "      <td>1</td>\n",
              "      <td>Cute interior and owner (?) gave us tour of up...</td>\n",
              "      <td>2017-01-14 20:54:15</td>\n",
              "      <td>cute interior and owner  gave us tour of upcom...</td>\n",
              "      <td>1</td>\n",
              "      <td>0.400969</td>\n",
              "      <td>[cute, interior, owner, gave, us, tour, upcomi...</td>\n",
              "    </tr>\n",
              "  </tbody>\n",
              "</table>\n",
              "</div>\n",
              "    <div class=\"colab-df-buttons\">\n",
              "\n",
              "  <div class=\"colab-df-container\">\n",
              "    <button class=\"colab-df-convert\" onclick=\"convertToInteractive('df-c84ab234-815d-45fb-adad-bdcff207d8f1')\"\n",
              "            title=\"Convert this dataframe to an interactive table.\"\n",
              "            style=\"display:none;\">\n",
              "\n",
              "  <svg xmlns=\"http://www.w3.org/2000/svg\" height=\"24px\" viewBox=\"0 -960 960 960\">\n",
              "    <path d=\"M120-120v-720h720v720H120Zm60-500h600v-160H180v160Zm220 220h160v-160H400v160Zm0 220h160v-160H400v160ZM180-400h160v-160H180v160Zm440 0h160v-160H620v160ZM180-180h160v-160H180v160Zm440 0h160v-160H620v160Z\"/>\n",
              "  </svg>\n",
              "    </button>\n",
              "\n",
              "  <style>\n",
              "    .colab-df-container {\n",
              "      display:flex;\n",
              "      gap: 12px;\n",
              "    }\n",
              "\n",
              "    .colab-df-convert {\n",
              "      background-color: #E8F0FE;\n",
              "      border: none;\n",
              "      border-radius: 50%;\n",
              "      cursor: pointer;\n",
              "      display: none;\n",
              "      fill: #1967D2;\n",
              "      height: 32px;\n",
              "      padding: 0 0 0 0;\n",
              "      width: 32px;\n",
              "    }\n",
              "\n",
              "    .colab-df-convert:hover {\n",
              "      background-color: #E2EBFA;\n",
              "      box-shadow: 0px 1px 2px rgba(60, 64, 67, 0.3), 0px 1px 3px 1px rgba(60, 64, 67, 0.15);\n",
              "      fill: #174EA6;\n",
              "    }\n",
              "\n",
              "    .colab-df-buttons div {\n",
              "      margin-bottom: 4px;\n",
              "    }\n",
              "\n",
              "    [theme=dark] .colab-df-convert {\n",
              "      background-color: #3B4455;\n",
              "      fill: #D2E3FC;\n",
              "    }\n",
              "\n",
              "    [theme=dark] .colab-df-convert:hover {\n",
              "      background-color: #434B5C;\n",
              "      box-shadow: 0px 1px 3px 1px rgba(0, 0, 0, 0.15);\n",
              "      filter: drop-shadow(0px 1px 2px rgba(0, 0, 0, 0.3));\n",
              "      fill: #FFFFFF;\n",
              "    }\n",
              "  </style>\n",
              "\n",
              "    <script>\n",
              "      const buttonEl =\n",
              "        document.querySelector('#df-c84ab234-815d-45fb-adad-bdcff207d8f1 button.colab-df-convert');\n",
              "      buttonEl.style.display =\n",
              "        google.colab.kernel.accessAllowed ? 'block' : 'none';\n",
              "\n",
              "      async function convertToInteractive(key) {\n",
              "        const element = document.querySelector('#df-c84ab234-815d-45fb-adad-bdcff207d8f1');\n",
              "        const dataTable =\n",
              "          await google.colab.kernel.invokeFunction('convertToInteractive',\n",
              "                                                    [key], {});\n",
              "        if (!dataTable) return;\n",
              "\n",
              "        const docLinkHtml = 'Like what you see? Visit the ' +\n",
              "          '<a target=\"_blank\" href=https://colab.research.google.com/notebooks/data_table.ipynb>data table notebook</a>'\n",
              "          + ' to learn more about interactive tables.';\n",
              "        element.innerHTML = '';\n",
              "        dataTable['output_type'] = 'display_data';\n",
              "        await google.colab.output.renderOutput(dataTable, element);\n",
              "        const docLink = document.createElement('div');\n",
              "        docLink.innerHTML = docLinkHtml;\n",
              "        element.appendChild(docLink);\n",
              "      }\n",
              "    </script>\n",
              "  </div>\n",
              "\n",
              "\n",
              "    <div id=\"df-2753072e-3f7f-4cf9-b027-d99a14833de3\">\n",
              "      <button class=\"colab-df-quickchart\" onclick=\"quickchart('df-2753072e-3f7f-4cf9-b027-d99a14833de3')\"\n",
              "                title=\"Suggest charts\"\n",
              "                style=\"display:none;\">\n",
              "\n",
              "<svg xmlns=\"http://www.w3.org/2000/svg\" height=\"24px\"viewBox=\"0 0 24 24\"\n",
              "     width=\"24px\">\n",
              "    <g>\n",
              "        <path d=\"M19 3H5c-1.1 0-2 .9-2 2v14c0 1.1.9 2 2 2h14c1.1 0 2-.9 2-2V5c0-1.1-.9-2-2-2zM9 17H7v-7h2v7zm4 0h-2V7h2v10zm4 0h-2v-4h2v4z\"/>\n",
              "    </g>\n",
              "</svg>\n",
              "      </button>\n",
              "\n",
              "<style>\n",
              "  .colab-df-quickchart {\n",
              "      --bg-color: #E8F0FE;\n",
              "      --fill-color: #1967D2;\n",
              "      --hover-bg-color: #E2EBFA;\n",
              "      --hover-fill-color: #174EA6;\n",
              "      --disabled-fill-color: #AAA;\n",
              "      --disabled-bg-color: #DDD;\n",
              "  }\n",
              "\n",
              "  [theme=dark] .colab-df-quickchart {\n",
              "      --bg-color: #3B4455;\n",
              "      --fill-color: #D2E3FC;\n",
              "      --hover-bg-color: #434B5C;\n",
              "      --hover-fill-color: #FFFFFF;\n",
              "      --disabled-bg-color: #3B4455;\n",
              "      --disabled-fill-color: #666;\n",
              "  }\n",
              "\n",
              "  .colab-df-quickchart {\n",
              "    background-color: var(--bg-color);\n",
              "    border: none;\n",
              "    border-radius: 50%;\n",
              "    cursor: pointer;\n",
              "    display: none;\n",
              "    fill: var(--fill-color);\n",
              "    height: 32px;\n",
              "    padding: 0;\n",
              "    width: 32px;\n",
              "  }\n",
              "\n",
              "  .colab-df-quickchart:hover {\n",
              "    background-color: var(--hover-bg-color);\n",
              "    box-shadow: 0 1px 2px rgba(60, 64, 67, 0.3), 0 1px 3px 1px rgba(60, 64, 67, 0.15);\n",
              "    fill: var(--button-hover-fill-color);\n",
              "  }\n",
              "\n",
              "  .colab-df-quickchart-complete:disabled,\n",
              "  .colab-df-quickchart-complete:disabled:hover {\n",
              "    background-color: var(--disabled-bg-color);\n",
              "    fill: var(--disabled-fill-color);\n",
              "    box-shadow: none;\n",
              "  }\n",
              "\n",
              "  .colab-df-spinner {\n",
              "    border: 2px solid var(--fill-color);\n",
              "    border-color: transparent;\n",
              "    border-bottom-color: var(--fill-color);\n",
              "    animation:\n",
              "      spin 1s steps(1) infinite;\n",
              "  }\n",
              "\n",
              "  @keyframes spin {\n",
              "    0% {\n",
              "      border-color: transparent;\n",
              "      border-bottom-color: var(--fill-color);\n",
              "      border-left-color: var(--fill-color);\n",
              "    }\n",
              "    20% {\n",
              "      border-color: transparent;\n",
              "      border-left-color: var(--fill-color);\n",
              "      border-top-color: var(--fill-color);\n",
              "    }\n",
              "    30% {\n",
              "      border-color: transparent;\n",
              "      border-left-color: var(--fill-color);\n",
              "      border-top-color: var(--fill-color);\n",
              "      border-right-color: var(--fill-color);\n",
              "    }\n",
              "    40% {\n",
              "      border-color: transparent;\n",
              "      border-right-color: var(--fill-color);\n",
              "      border-top-color: var(--fill-color);\n",
              "    }\n",
              "    60% {\n",
              "      border-color: transparent;\n",
              "      border-right-color: var(--fill-color);\n",
              "    }\n",
              "    80% {\n",
              "      border-color: transparent;\n",
              "      border-right-color: var(--fill-color);\n",
              "      border-bottom-color: var(--fill-color);\n",
              "    }\n",
              "    90% {\n",
              "      border-color: transparent;\n",
              "      border-bottom-color: var(--fill-color);\n",
              "    }\n",
              "  }\n",
              "</style>\n",
              "\n",
              "      <script>\n",
              "        async function quickchart(key) {\n",
              "          const quickchartButtonEl =\n",
              "            document.querySelector('#' + key + ' button');\n",
              "          quickchartButtonEl.disabled = true;  // To prevent multiple clicks.\n",
              "          quickchartButtonEl.classList.add('colab-df-spinner');\n",
              "          try {\n",
              "            const charts = await google.colab.kernel.invokeFunction(\n",
              "                'suggestCharts', [key], {});\n",
              "          } catch (error) {\n",
              "            console.error('Error during call to suggestCharts:', error);\n",
              "          }\n",
              "          quickchartButtonEl.classList.remove('colab-df-spinner');\n",
              "          quickchartButtonEl.classList.add('colab-df-quickchart-complete');\n",
              "        }\n",
              "        (() => {\n",
              "          let quickchartButtonEl =\n",
              "            document.querySelector('#df-2753072e-3f7f-4cf9-b027-d99a14833de3 button');\n",
              "          quickchartButtonEl.style.display =\n",
              "            google.colab.kernel.accessAllowed ? 'block' : 'none';\n",
              "        })();\n",
              "      </script>\n",
              "    </div>\n",
              "\n",
              "    </div>\n",
              "  </div>\n"
            ],
            "text/plain": [
              "                review_id                 user_id             business_id  \\\n",
              "0  KU_O5udG6zpxOg-VcAEodg  mh_-eMZ6K5RLWhZyISBhwA  XQfwVwDr-v0ZS3_CbbE5Xw   \n",
              "1  BiTunyQ73aT9WBnpR9DZGw  OyoGAe7OKpv6SyGZT5g77Q  7ATYjTIgM3jUlt4UM3IypQ   \n",
              "2  saUsX_uimxRlCVr67Z4Jig  8g_iMtfSiwikVnbP2etR0A  YjUWPpI6HXG530lwP-fb2A   \n",
              "3  AqPFMleE6RsU23_auESxiA  _7bHUi9Uuf5__HHc_Q8guQ  kxX2SOes4o-D3ZQBkiMRfA   \n",
              "4  Sx8TMOWLNuJBWer-0pcmoA  bcjbaE6dDog4jkNY91ncLQ  e4Vwtrqf-wpJfwesgvdgxQ   \n",
              "\n",
              "   stars  useful  funny  cool  \\\n",
              "0      3       0      0     0   \n",
              "1      5       1      0     1   \n",
              "2      3       0      0     0   \n",
              "3      5       1      0     1   \n",
              "4      4       1      0     1   \n",
              "\n",
              "                                                text                date  \\\n",
              "0  If you decide to eat here, just be aware it is... 2018-07-07 22:09:11   \n",
              "1  I've taken a lot of spin classes over the year... 2012-01-03 15:28:18   \n",
              "2  Family diner. Had the buffet. Eclectic assortm... 2014-02-05 20:30:30   \n",
              "3  Wow!  Yummy, different,  delicious.   Our favo... 2015-01-04 00:01:03   \n",
              "4  Cute interior and owner (?) gave us tour of up... 2017-01-14 20:54:15   \n",
              "\n",
              "                                          clean_text  label  sentiment  \\\n",
              "0  if you decide to eat here just be aware it is ...      0   0.085278   \n",
              "1  ive taken a lot of spin classes over the years...      1   0.402273   \n",
              "2  family diner had the buffet eclectic assortmen...      0   0.139935   \n",
              "3  wow  yummy different  delicious   our favorite...      1   0.302557   \n",
              "4  cute interior and owner  gave us tour of upcom...      1   0.400969   \n",
              "\n",
              "                                              tokens  \n",
              "0  [decide, eat, aware, going, take, hours, begin...  \n",
              "1  [ive, taken, lot, spin, classes, years, nothin...  \n",
              "2  [family, diner, buffet, eclectic, assortment, ...  \n",
              "3  [wow, yummy, different, delicious, favorite, l...  \n",
              "4  [cute, interior, owner, gave, us, tour, upcomi...  "
            ]
          },
          "execution_count": 15,
          "metadata": {},
          "output_type": "execute_result"
        }
      ],
      "source": [
        "df.head()"
      ]
    },
    {
      "cell_type": "code",
      "execution_count": 16,
      "metadata": {
        "id": "TxiV1mjDpTS4"
      },
      "outputs": [],
      "source": [
        "def get_word2vec_model():\n",
        "  word2vec_model = api.load('word2vec-google-news-300')\n",
        "\n",
        "  return word2vec_model"
      ]
    },
    {
      "cell_type": "code",
      "execution_count": 17,
      "metadata": {
        "colab": {
          "base_uri": "https://localhost:8080/"
        },
        "id": "uKCI2wS6b5Rq",
        "outputId": "97cbc154-d655-48ea-be7d-c111df0b6904"
      },
      "outputs": [
        {
          "name": "stdout",
          "output_type": "stream",
          "text": [
            "Embedding shape: (100,)\n"
          ]
        }
      ],
      "source": [
        "def load_glove_embeddings(file_path, encoding='utf-8'):\n",
        "\n",
        "    embeddings = {}\n",
        "    embedding_dim = None\n",
        "\n",
        "    with open(file_path, 'r', encoding=encoding) as f:\n",
        "        for line_num, line in enumerate(f, 1):\n",
        "\n",
        "            parts = line.strip().split()\n",
        "            if len(parts) < 2:\n",
        "                continue\n",
        "\n",
        "            word = parts[0]\n",
        "            vector = np.array([float(x) for x in parts[1:]], dtype=np.float32)\n",
        "\n",
        "            # Set embedding dimension using first word\n",
        "            if embedding_dim is None:\n",
        "                embedding_dim = len(vector)\n",
        "\n",
        "            # Inconsistent dimensions\n",
        "            if len(vector) != embedding_dim:\n",
        "                print(f\"Warning: Skipping word '{word}' with inconsistent dimension\")\n",
        "                continue\n",
        "\n",
        "            embeddings[word] = vector\n",
        "\n",
        "    # Glove Model\n",
        "    class GloVeModel:\n",
        "        def __init__(self, embeddings):\n",
        "            self.embeddings = embeddings\n",
        "            self.key_to_index = {word: i for i, word in enumerate(embeddings.keys())}\n",
        "            self.vector_size = embedding_dim\n",
        "\n",
        "        def __contains__(self, word):\n",
        "            return word in self.embeddings\n",
        "\n",
        "        def __getitem__(self, word):\n",
        "            if word not in self.embeddings:\n",
        "                raise KeyError(f\"Word '{word}' not found in embeddings\")\n",
        "            return self.embeddings[word]\n",
        "\n",
        "        def get_vector(self, word):\n",
        "            return self.embeddings[word]\n",
        "\n",
        "    return GloVeModel(embeddings)\n",
        "\n",
        "\n",
        "glove_model = load_glove_embeddings('/content/drive/MyDrive/2025-02/glove.6B.100d.txt')\n",
        "\n",
        "if 'good' in glove_model:\n",
        "    embedding = glove_model['good']\n",
        "    print(f\"Embedding shape: {embedding.shape}\")"
      ]
    },
    {
      "cell_type": "code",
      "execution_count": 18,
      "metadata": {
        "id": "5MzHFJrjnvoR"
      },
      "outputs": [],
      "source": [
        "embedding_dim = 300\n",
        "max_length = 100"
      ]
    },
    {
      "cell_type": "code",
      "execution_count": 19,
      "metadata": {
        "id": "J0MTZyJepW5z"
      },
      "outputs": [],
      "source": [
        "# import numpy as np\n",
        "# def get_review_embedding(tokens, model, embedding_dim=300):\n",
        "#     valid_embeddings = [model[word] for word in tokens if word in model]\n",
        "#     if len(valid_embeddings) == 0:\n",
        "#         return np.zeros(embedding_dim)\n",
        "#     return np.mean(valid_embeddings, axis=0)\n",
        "\n",
        "# # Compute embeddings for each review\n",
        "# df['embedding'] = df['tokens'].apply(lambda tokens: get_review_embedding(tokens, word2vec_model, embedding_dim=embedding_dim))"
      ]
    },
    {
      "cell_type": "code",
      "execution_count": 20,
      "metadata": {
        "id": "pPM6PWQDPMiK"
      },
      "outputs": [],
      "source": [
        "embedding_model = get_word2vec_model()"
      ]
    },
    {
      "cell_type": "code",
      "execution_count": 21,
      "metadata": {
        "id": "bpm25oIVohAR"
      },
      "outputs": [],
      "source": [
        "def embed_seq_for_lstm(tokens, model, max_length=100, embedding_dim=300):\n",
        "    embeddings = np.zeros((max_length, embedding_dim))\n",
        "\n",
        "    # Fill only the positions we have tokens for\n",
        "    for i, word in enumerate(tokens[:max_length]):\n",
        "        if word in model:\n",
        "            embeddings[i] = model[word]\n",
        "        # else: already zeros from initialization\n",
        "\n",
        "    return embeddings\n",
        "\n",
        "df['seq_embedding'] = df['tokens'].apply(lambda tokens: embed_seq_for_lstm(tokens, embedding_model, max_length=max_length, embedding_dim=embedding_dim))"
      ]
    },
    {
      "cell_type": "code",
      "execution_count": 22,
      "metadata": {
        "colab": {
          "base_uri": "https://localhost:8080/",
          "height": 678
        },
        "collapsed": true,
        "id": "RSiJvR1AtTnE",
        "outputId": "34f6ec8f-bdb6-466c-c6cd-582b77b002e0"
      },
      "outputs": [
        {
          "data": {
            "application/vnd.google.colaboratory.intrinsic+json": {
              "summary": "{\n  \"name\": \"df\",\n  \"rows\": 6500,\n  \"fields\": [\n    {\n      \"column\": \"review_id\",\n      \"properties\": {\n        \"dtype\": \"string\",\n        \"num_unique_values\": 6500,\n        \"samples\": [\n          \"00n7AuDDL8Ft3gyNdUTtvQ\",\n          \"gW-vFoXYaUxLqPpLw2gaOw\",\n          \"SigY5T1neL5CQZSSMBHkYA\"\n        ],\n        \"semantic_type\": \"\",\n        \"description\": \"\"\n      }\n    },\n    {\n      \"column\": \"user_id\",\n      \"properties\": {\n        \"dtype\": \"string\",\n        \"num_unique_values\": 6249,\n        \"samples\": [\n          \"ioUTO-zapzvkwS3jaSR44A\",\n          \"A3gEkJ0lvC1-37KPMNTehg\",\n          \"_YBX0Fy9pI0ktOQ9RtFhAg\"\n        ],\n        \"semantic_type\": \"\",\n        \"description\": \"\"\n      }\n    },\n    {\n      \"column\": \"business_id\",\n      \"properties\": {\n        \"dtype\": \"category\",\n        \"num_unique_values\": 3112,\n        \"samples\": [\n          \"YeMouev-sLfAxykmcANNoQ\",\n          \"Ym8E4Lgi3IfH53YuG5WxIg\",\n          \"5BmQX4UVJY19mMtafMg7JA\"\n        ],\n        \"semantic_type\": \"\",\n        \"description\": \"\"\n      }\n    },\n    {\n      \"column\": \"stars\",\n      \"properties\": {\n        \"dtype\": \"number\",\n        \"std\": 1,\n        \"min\": 1,\n        \"max\": 5,\n        \"num_unique_values\": 5,\n        \"samples\": [\n          5,\n          2,\n          4\n        ],\n        \"semantic_type\": \"\",\n        \"description\": \"\"\n      }\n    },\n    {\n      \"column\": \"useful\",\n      \"properties\": {\n        \"dtype\": \"number\",\n        \"std\": 1,\n        \"min\": 0,\n        \"max\": 61,\n        \"num_unique_values\": 24,\n        \"samples\": [\n          14,\n          16,\n          0\n        ],\n        \"semantic_type\": \"\",\n        \"description\": \"\"\n      }\n    },\n    {\n      \"column\": \"funny\",\n      \"properties\": {\n        \"dtype\": \"number\",\n        \"std\": 0,\n        \"min\": 0,\n        \"max\": 26,\n        \"num_unique_values\": 15,\n        \"samples\": [\n          9,\n          10,\n          0\n        ],\n        \"semantic_type\": \"\",\n        \"description\": \"\"\n      }\n    },\n    {\n      \"column\": \"cool\",\n      \"properties\": {\n        \"dtype\": \"number\",\n        \"std\": 0,\n        \"min\": 0,\n        \"max\": 13,\n        \"num_unique_values\": 14,\n        \"samples\": [\n          8,\n          11,\n          0\n        ],\n        \"semantic_type\": \"\",\n        \"description\": \"\"\n      }\n    },\n    {\n      \"column\": \"text\",\n      \"properties\": {\n        \"dtype\": \"string\",\n        \"num_unique_values\": 6500,\n        \"samples\": [\n          \"After spending the better part of a week indulging in gluttony, New Orleans-style, we were looking for something light, fresh, casual, and inexpensive. Our local friend pointed us to Lilly's. She said the woman who used to do here nails at the salon had opened a great Vietnamese restaurant.\\n\\nAs soon as we walked in we were greeted by an energetic, friendly woman (Lilly herself?). It was like dining at the home of your favorite aunt; she was pleasantly chatty, enthusiastic, and attentive.\\n\\nWe started out with the spring rolls, which were light and refreshing (these are the ones with soft rice paper, not fried). For our main course I had the grilled beef vermicelli and my girlfriend got the shrimp salad. I'm usually skeptical of ordering salads at Asian restaurants because they often seem to be throw-aways designed to make the menu more friendly to a western eye, but this one was delicious. The shrimp were grilled perfectly and it had a great sweet-spicy-smoky dressing (wish I knew what was in it).\\n\\nAttention to detail set Lilly's apart. Lightly fried slivers of garlic, perfectly grilled shrimp, fresh chunks of strawberry in the salad -- all the ingredients were carefully selected and prepared lovingly. For a fresh, casual lunch you couldn't do much better.\",\n          \"Only game in town.  I occasionally like to go here because they have fabulous crab cakes.  However, three stars because the service was so god awful.  We were there on a Tuesday night & the restaurant was not crowded.  It took 1hour and 15 minutes to receive our entrees.  No joke.  Of those entrees, two were kids' meals and one was a cheeseburger.  The food was fine...but really 45 minutes to wait for a salad?  We were told that the delay was b/c we ordered wings first and there was a table of 10 in the other room.  OK...It wasn't until i suggested that they bring the kids' meals after 45 minutes that the waitress even figured out something might be wrong.  Save your money...stay home for Kraft mac n cheese next time.\",\n          \"Be careful.  This place just wants your money, not your business.  They deal only in cash and are very reluctant to take returns.  And I'm sure that they don't only take cash only from the large contractors... probably just the little guys.  \\nThey sell damaged items.  Check your stuff very well before you leave, because you will not be able to bring it back if you discover that they have slipped you the ole' damaged door!\\n\\nI do not recommend this place.  Don't support them.  Not at all.\"\n        ],\n        \"semantic_type\": \"\",\n        \"description\": \"\"\n      }\n    },\n    {\n      \"column\": \"date\",\n      \"properties\": {\n        \"dtype\": \"date\",\n        \"min\": \"2005-03-09 06:37:47\",\n        \"max\": \"2018-10-04 18:10:01\",\n        \"num_unique_values\": 6495,\n        \"samples\": [\n          \"2016-07-25 21:36:07\",\n          \"2014-04-01 09:02:55\",\n          \"2011-07-28 12:45:48\"\n        ],\n        \"semantic_type\": \"\",\n        \"description\": \"\"\n      }\n    },\n    {\n      \"column\": \"clean_text\",\n      \"properties\": {\n        \"dtype\": \"string\",\n        \"num_unique_values\": 6500,\n        \"samples\": [\n          \"after spending the better part of a week indulging in gluttony new orleansstyle we were looking for something light fresh casual and inexpensive our local friend pointed us to lillys she said the woman who used to do here nails at the salon had opened a great vietnamese restaurant\\n\\nas soon as we walked in we were greeted by an energetic friendly woman lilly herself it was like dining at the home of your favorite aunt she was pleasantly chatty enthusiastic and attentive\\n\\nwe started out with the spring rolls which were light and refreshing these are the ones with soft rice paper not fried for our main course i had the grilled beef vermicelli and my girlfriend got the shrimp salad im usually skeptical of ordering salads at asian restaurants because they often seem to be throwaways designed to make the menu more friendly to a western eye but this one was delicious the shrimp were grilled perfectly and it had a great sweetspicysmoky dressing wish i knew what was in it\\n\\nattention to detail set lillys apart lightly fried slivers of garlic perfectly grilled shrimp fresh chunks of strawberry in the salad  all the ingredients were carefully selected and prepared lovingly for a fresh casual lunch you couldnt do much better\",\n          \"only game in town  i occasionally like to go here because they have fabulous crab cakes  however three stars because the service was so god awful  we were there on a tuesday night  the restaurant was not crowded  it took hour and  minutes to receive our entrees  no joke  of those entrees two were kids meals and one was a cheeseburger  the food was finebut really  minutes to wait for a salad  we were told that the delay was bc we ordered wings first and there was a table of  in the other room  okit wasnt until i suggested that they bring the kids meals after  minutes that the waitress even figured out something might be wrong  save your moneystay home for kraft mac n cheese next time\",\n          \"be careful  this place just wants your money not your business  they deal only in cash and are very reluctant to take returns  and im sure that they dont only take cash only from the large contractors probably just the little guys  \\nthey sell damaged items  check your stuff very well before you leave because you will not be able to bring it back if you discover that they have slipped you the ole damaged door\\n\\ni do not recommend this place  dont support them  not at all\"\n        ],\n        \"semantic_type\": \"\",\n        \"description\": \"\"\n      }\n    },\n    {\n      \"column\": \"label\",\n      \"properties\": {\n        \"dtype\": \"number\",\n        \"std\": 0,\n        \"min\": 0,\n        \"max\": 1,\n        \"num_unique_values\": 2,\n        \"samples\": [\n          1,\n          0\n        ],\n        \"semantic_type\": \"\",\n        \"description\": \"\"\n      }\n    },\n    {\n      \"column\": \"sentiment\",\n      \"properties\": {\n        \"dtype\": \"number\",\n        \"std\": 0.2281470048134146,\n        \"min\": -1.0,\n        \"max\": 1.0,\n        \"num_unique_values\": 5241,\n        \"samples\": [\n          0.266017316017316,\n          0.43100000000000005\n        ],\n        \"semantic_type\": \"\",\n        \"description\": \"\"\n      }\n    },\n    {\n      \"column\": \"tokens\",\n      \"properties\": {\n        \"dtype\": \"object\",\n        \"semantic_type\": \"\",\n        \"description\": \"\"\n      }\n    },\n    {\n      \"column\": \"seq_embedding\",\n      \"properties\": {\n        \"dtype\": \"object\",\n        \"semantic_type\": \"\",\n        \"description\": \"\"\n      }\n    }\n  ]\n}",
              "type": "dataframe",
              "variable_name": "df"
            },
            "text/html": [
              "\n",
              "  <div id=\"df-35bff0f7-4bb8-47ea-afae-cfdafff7c0bd\" class=\"colab-df-container\">\n",
              "    <div>\n",
              "<style scoped>\n",
              "    .dataframe tbody tr th:only-of-type {\n",
              "        vertical-align: middle;\n",
              "    }\n",
              "\n",
              "    .dataframe tbody tr th {\n",
              "        vertical-align: top;\n",
              "    }\n",
              "\n",
              "    .dataframe thead th {\n",
              "        text-align: right;\n",
              "    }\n",
              "</style>\n",
              "<table border=\"1\" class=\"dataframe\">\n",
              "  <thead>\n",
              "    <tr style=\"text-align: right;\">\n",
              "      <th></th>\n",
              "      <th>review_id</th>\n",
              "      <th>user_id</th>\n",
              "      <th>business_id</th>\n",
              "      <th>stars</th>\n",
              "      <th>useful</th>\n",
              "      <th>funny</th>\n",
              "      <th>cool</th>\n",
              "      <th>text</th>\n",
              "      <th>date</th>\n",
              "      <th>clean_text</th>\n",
              "      <th>label</th>\n",
              "      <th>sentiment</th>\n",
              "      <th>tokens</th>\n",
              "      <th>seq_embedding</th>\n",
              "    </tr>\n",
              "  </thead>\n",
              "  <tbody>\n",
              "    <tr>\n",
              "      <th>0</th>\n",
              "      <td>KU_O5udG6zpxOg-VcAEodg</td>\n",
              "      <td>mh_-eMZ6K5RLWhZyISBhwA</td>\n",
              "      <td>XQfwVwDr-v0ZS3_CbbE5Xw</td>\n",
              "      <td>3</td>\n",
              "      <td>0</td>\n",
              "      <td>0</td>\n",
              "      <td>0</td>\n",
              "      <td>If you decide to eat here, just be aware it is...</td>\n",
              "      <td>2018-07-07 22:09:11</td>\n",
              "      <td>if you decide to eat here just be aware it is ...</td>\n",
              "      <td>0</td>\n",
              "      <td>0.085278</td>\n",
              "      <td>[decide, eat, aware, going, take, hours, begin...</td>\n",
              "      <td>[[0.09814453125, 0.09326171875, 0.16796875, 0....</td>\n",
              "    </tr>\n",
              "    <tr>\n",
              "      <th>1</th>\n",
              "      <td>BiTunyQ73aT9WBnpR9DZGw</td>\n",
              "      <td>OyoGAe7OKpv6SyGZT5g77Q</td>\n",
              "      <td>7ATYjTIgM3jUlt4UM3IypQ</td>\n",
              "      <td>5</td>\n",
              "      <td>1</td>\n",
              "      <td>0</td>\n",
              "      <td>1</td>\n",
              "      <td>I've taken a lot of spin classes over the year...</td>\n",
              "      <td>2012-01-03 15:28:18</td>\n",
              "      <td>ive taken a lot of spin classes over the years...</td>\n",
              "      <td>1</td>\n",
              "      <td>0.402273</td>\n",
              "      <td>[ive, taken, lot, spin, classes, years, nothin...</td>\n",
              "      <td>[[-0.412109375, 0.1884765625, -0.234375, 0.296...</td>\n",
              "    </tr>\n",
              "    <tr>\n",
              "      <th>2</th>\n",
              "      <td>saUsX_uimxRlCVr67Z4Jig</td>\n",
              "      <td>8g_iMtfSiwikVnbP2etR0A</td>\n",
              "      <td>YjUWPpI6HXG530lwP-fb2A</td>\n",
              "      <td>3</td>\n",
              "      <td>0</td>\n",
              "      <td>0</td>\n",
              "      <td>0</td>\n",
              "      <td>Family diner. Had the buffet. Eclectic assortm...</td>\n",
              "      <td>2014-02-05 20:30:30</td>\n",
              "      <td>family diner had the buffet eclectic assortmen...</td>\n",
              "      <td>0</td>\n",
              "      <td>0.139935</td>\n",
              "      <td>[family, diner, buffet, eclectic, assortment, ...</td>\n",
              "      <td>[[-0.018798828125, -0.1181640625, -0.143554687...</td>\n",
              "    </tr>\n",
              "    <tr>\n",
              "      <th>3</th>\n",
              "      <td>AqPFMleE6RsU23_auESxiA</td>\n",
              "      <td>_7bHUi9Uuf5__HHc_Q8guQ</td>\n",
              "      <td>kxX2SOes4o-D3ZQBkiMRfA</td>\n",
              "      <td>5</td>\n",
              "      <td>1</td>\n",
              "      <td>0</td>\n",
              "      <td>1</td>\n",
              "      <td>Wow!  Yummy, different,  delicious.   Our favo...</td>\n",
              "      <td>2015-01-04 00:01:03</td>\n",
              "      <td>wow  yummy different  delicious   our favorite...</td>\n",
              "      <td>1</td>\n",
              "      <td>0.302557</td>\n",
              "      <td>[wow, yummy, different, delicious, favorite, l...</td>\n",
              "      <td>[[0.125, 0.01806640625, 0.0576171875, 0.002273...</td>\n",
              "    </tr>\n",
              "    <tr>\n",
              "      <th>4</th>\n",
              "      <td>Sx8TMOWLNuJBWer-0pcmoA</td>\n",
              "      <td>bcjbaE6dDog4jkNY91ncLQ</td>\n",
              "      <td>e4Vwtrqf-wpJfwesgvdgxQ</td>\n",
              "      <td>4</td>\n",
              "      <td>1</td>\n",
              "      <td>0</td>\n",
              "      <td>1</td>\n",
              "      <td>Cute interior and owner (?) gave us tour of up...</td>\n",
              "      <td>2017-01-14 20:54:15</td>\n",
              "      <td>cute interior and owner  gave us tour of upcom...</td>\n",
              "      <td>1</td>\n",
              "      <td>0.400969</td>\n",
              "      <td>[cute, interior, owner, gave, us, tour, upcomi...</td>\n",
              "      <td>[[0.10107421875, 0.049560546875, -0.1171875, 0...</td>\n",
              "    </tr>\n",
              "  </tbody>\n",
              "</table>\n",
              "</div>\n",
              "    <div class=\"colab-df-buttons\">\n",
              "\n",
              "  <div class=\"colab-df-container\">\n",
              "    <button class=\"colab-df-convert\" onclick=\"convertToInteractive('df-35bff0f7-4bb8-47ea-afae-cfdafff7c0bd')\"\n",
              "            title=\"Convert this dataframe to an interactive table.\"\n",
              "            style=\"display:none;\">\n",
              "\n",
              "  <svg xmlns=\"http://www.w3.org/2000/svg\" height=\"24px\" viewBox=\"0 -960 960 960\">\n",
              "    <path d=\"M120-120v-720h720v720H120Zm60-500h600v-160H180v160Zm220 220h160v-160H400v160Zm0 220h160v-160H400v160ZM180-400h160v-160H180v160Zm440 0h160v-160H620v160ZM180-180h160v-160H180v160Zm440 0h160v-160H620v160Z\"/>\n",
              "  </svg>\n",
              "    </button>\n",
              "\n",
              "  <style>\n",
              "    .colab-df-container {\n",
              "      display:flex;\n",
              "      gap: 12px;\n",
              "    }\n",
              "\n",
              "    .colab-df-convert {\n",
              "      background-color: #E8F0FE;\n",
              "      border: none;\n",
              "      border-radius: 50%;\n",
              "      cursor: pointer;\n",
              "      display: none;\n",
              "      fill: #1967D2;\n",
              "      height: 32px;\n",
              "      padding: 0 0 0 0;\n",
              "      width: 32px;\n",
              "    }\n",
              "\n",
              "    .colab-df-convert:hover {\n",
              "      background-color: #E2EBFA;\n",
              "      box-shadow: 0px 1px 2px rgba(60, 64, 67, 0.3), 0px 1px 3px 1px rgba(60, 64, 67, 0.15);\n",
              "      fill: #174EA6;\n",
              "    }\n",
              "\n",
              "    .colab-df-buttons div {\n",
              "      margin-bottom: 4px;\n",
              "    }\n",
              "\n",
              "    [theme=dark] .colab-df-convert {\n",
              "      background-color: #3B4455;\n",
              "      fill: #D2E3FC;\n",
              "    }\n",
              "\n",
              "    [theme=dark] .colab-df-convert:hover {\n",
              "      background-color: #434B5C;\n",
              "      box-shadow: 0px 1px 3px 1px rgba(0, 0, 0, 0.15);\n",
              "      filter: drop-shadow(0px 1px 2px rgba(0, 0, 0, 0.3));\n",
              "      fill: #FFFFFF;\n",
              "    }\n",
              "  </style>\n",
              "\n",
              "    <script>\n",
              "      const buttonEl =\n",
              "        document.querySelector('#df-35bff0f7-4bb8-47ea-afae-cfdafff7c0bd button.colab-df-convert');\n",
              "      buttonEl.style.display =\n",
              "        google.colab.kernel.accessAllowed ? 'block' : 'none';\n",
              "\n",
              "      async function convertToInteractive(key) {\n",
              "        const element = document.querySelector('#df-35bff0f7-4bb8-47ea-afae-cfdafff7c0bd');\n",
              "        const dataTable =\n",
              "          await google.colab.kernel.invokeFunction('convertToInteractive',\n",
              "                                                    [key], {});\n",
              "        if (!dataTable) return;\n",
              "\n",
              "        const docLinkHtml = 'Like what you see? Visit the ' +\n",
              "          '<a target=\"_blank\" href=https://colab.research.google.com/notebooks/data_table.ipynb>data table notebook</a>'\n",
              "          + ' to learn more about interactive tables.';\n",
              "        element.innerHTML = '';\n",
              "        dataTable['output_type'] = 'display_data';\n",
              "        await google.colab.output.renderOutput(dataTable, element);\n",
              "        const docLink = document.createElement('div');\n",
              "        docLink.innerHTML = docLinkHtml;\n",
              "        element.appendChild(docLink);\n",
              "      }\n",
              "    </script>\n",
              "  </div>\n",
              "\n",
              "\n",
              "    <div id=\"df-26caa7ed-113b-4302-9a4b-c3eeeda08dcf\">\n",
              "      <button class=\"colab-df-quickchart\" onclick=\"quickchart('df-26caa7ed-113b-4302-9a4b-c3eeeda08dcf')\"\n",
              "                title=\"Suggest charts\"\n",
              "                style=\"display:none;\">\n",
              "\n",
              "<svg xmlns=\"http://www.w3.org/2000/svg\" height=\"24px\"viewBox=\"0 0 24 24\"\n",
              "     width=\"24px\">\n",
              "    <g>\n",
              "        <path d=\"M19 3H5c-1.1 0-2 .9-2 2v14c0 1.1.9 2 2 2h14c1.1 0 2-.9 2-2V5c0-1.1-.9-2-2-2zM9 17H7v-7h2v7zm4 0h-2V7h2v10zm4 0h-2v-4h2v4z\"/>\n",
              "    </g>\n",
              "</svg>\n",
              "      </button>\n",
              "\n",
              "<style>\n",
              "  .colab-df-quickchart {\n",
              "      --bg-color: #E8F0FE;\n",
              "      --fill-color: #1967D2;\n",
              "      --hover-bg-color: #E2EBFA;\n",
              "      --hover-fill-color: #174EA6;\n",
              "      --disabled-fill-color: #AAA;\n",
              "      --disabled-bg-color: #DDD;\n",
              "  }\n",
              "\n",
              "  [theme=dark] .colab-df-quickchart {\n",
              "      --bg-color: #3B4455;\n",
              "      --fill-color: #D2E3FC;\n",
              "      --hover-bg-color: #434B5C;\n",
              "      --hover-fill-color: #FFFFFF;\n",
              "      --disabled-bg-color: #3B4455;\n",
              "      --disabled-fill-color: #666;\n",
              "  }\n",
              "\n",
              "  .colab-df-quickchart {\n",
              "    background-color: var(--bg-color);\n",
              "    border: none;\n",
              "    border-radius: 50%;\n",
              "    cursor: pointer;\n",
              "    display: none;\n",
              "    fill: var(--fill-color);\n",
              "    height: 32px;\n",
              "    padding: 0;\n",
              "    width: 32px;\n",
              "  }\n",
              "\n",
              "  .colab-df-quickchart:hover {\n",
              "    background-color: var(--hover-bg-color);\n",
              "    box-shadow: 0 1px 2px rgba(60, 64, 67, 0.3), 0 1px 3px 1px rgba(60, 64, 67, 0.15);\n",
              "    fill: var(--button-hover-fill-color);\n",
              "  }\n",
              "\n",
              "  .colab-df-quickchart-complete:disabled,\n",
              "  .colab-df-quickchart-complete:disabled:hover {\n",
              "    background-color: var(--disabled-bg-color);\n",
              "    fill: var(--disabled-fill-color);\n",
              "    box-shadow: none;\n",
              "  }\n",
              "\n",
              "  .colab-df-spinner {\n",
              "    border: 2px solid var(--fill-color);\n",
              "    border-color: transparent;\n",
              "    border-bottom-color: var(--fill-color);\n",
              "    animation:\n",
              "      spin 1s steps(1) infinite;\n",
              "  }\n",
              "\n",
              "  @keyframes spin {\n",
              "    0% {\n",
              "      border-color: transparent;\n",
              "      border-bottom-color: var(--fill-color);\n",
              "      border-left-color: var(--fill-color);\n",
              "    }\n",
              "    20% {\n",
              "      border-color: transparent;\n",
              "      border-left-color: var(--fill-color);\n",
              "      border-top-color: var(--fill-color);\n",
              "    }\n",
              "    30% {\n",
              "      border-color: transparent;\n",
              "      border-left-color: var(--fill-color);\n",
              "      border-top-color: var(--fill-color);\n",
              "      border-right-color: var(--fill-color);\n",
              "    }\n",
              "    40% {\n",
              "      border-color: transparent;\n",
              "      border-right-color: var(--fill-color);\n",
              "      border-top-color: var(--fill-color);\n",
              "    }\n",
              "    60% {\n",
              "      border-color: transparent;\n",
              "      border-right-color: var(--fill-color);\n",
              "    }\n",
              "    80% {\n",
              "      border-color: transparent;\n",
              "      border-right-color: var(--fill-color);\n",
              "      border-bottom-color: var(--fill-color);\n",
              "    }\n",
              "    90% {\n",
              "      border-color: transparent;\n",
              "      border-bottom-color: var(--fill-color);\n",
              "    }\n",
              "  }\n",
              "</style>\n",
              "\n",
              "      <script>\n",
              "        async function quickchart(key) {\n",
              "          const quickchartButtonEl =\n",
              "            document.querySelector('#' + key + ' button');\n",
              "          quickchartButtonEl.disabled = true;  // To prevent multiple clicks.\n",
              "          quickchartButtonEl.classList.add('colab-df-spinner');\n",
              "          try {\n",
              "            const charts = await google.colab.kernel.invokeFunction(\n",
              "                'suggestCharts', [key], {});\n",
              "          } catch (error) {\n",
              "            console.error('Error during call to suggestCharts:', error);\n",
              "          }\n",
              "          quickchartButtonEl.classList.remove('colab-df-spinner');\n",
              "          quickchartButtonEl.classList.add('colab-df-quickchart-complete');\n",
              "        }\n",
              "        (() => {\n",
              "          let quickchartButtonEl =\n",
              "            document.querySelector('#df-26caa7ed-113b-4302-9a4b-c3eeeda08dcf button');\n",
              "          quickchartButtonEl.style.display =\n",
              "            google.colab.kernel.accessAllowed ? 'block' : 'none';\n",
              "        })();\n",
              "      </script>\n",
              "    </div>\n",
              "\n",
              "    </div>\n",
              "  </div>\n"
            ],
            "text/plain": [
              "                review_id                 user_id             business_id  \\\n",
              "0  KU_O5udG6zpxOg-VcAEodg  mh_-eMZ6K5RLWhZyISBhwA  XQfwVwDr-v0ZS3_CbbE5Xw   \n",
              "1  BiTunyQ73aT9WBnpR9DZGw  OyoGAe7OKpv6SyGZT5g77Q  7ATYjTIgM3jUlt4UM3IypQ   \n",
              "2  saUsX_uimxRlCVr67Z4Jig  8g_iMtfSiwikVnbP2etR0A  YjUWPpI6HXG530lwP-fb2A   \n",
              "3  AqPFMleE6RsU23_auESxiA  _7bHUi9Uuf5__HHc_Q8guQ  kxX2SOes4o-D3ZQBkiMRfA   \n",
              "4  Sx8TMOWLNuJBWer-0pcmoA  bcjbaE6dDog4jkNY91ncLQ  e4Vwtrqf-wpJfwesgvdgxQ   \n",
              "\n",
              "   stars  useful  funny  cool  \\\n",
              "0      3       0      0     0   \n",
              "1      5       1      0     1   \n",
              "2      3       0      0     0   \n",
              "3      5       1      0     1   \n",
              "4      4       1      0     1   \n",
              "\n",
              "                                                text                date  \\\n",
              "0  If you decide to eat here, just be aware it is... 2018-07-07 22:09:11   \n",
              "1  I've taken a lot of spin classes over the year... 2012-01-03 15:28:18   \n",
              "2  Family diner. Had the buffet. Eclectic assortm... 2014-02-05 20:30:30   \n",
              "3  Wow!  Yummy, different,  delicious.   Our favo... 2015-01-04 00:01:03   \n",
              "4  Cute interior and owner (?) gave us tour of up... 2017-01-14 20:54:15   \n",
              "\n",
              "                                          clean_text  label  sentiment  \\\n",
              "0  if you decide to eat here just be aware it is ...      0   0.085278   \n",
              "1  ive taken a lot of spin classes over the years...      1   0.402273   \n",
              "2  family diner had the buffet eclectic assortmen...      0   0.139935   \n",
              "3  wow  yummy different  delicious   our favorite...      1   0.302557   \n",
              "4  cute interior and owner  gave us tour of upcom...      1   0.400969   \n",
              "\n",
              "                                              tokens  \\\n",
              "0  [decide, eat, aware, going, take, hours, begin...   \n",
              "1  [ive, taken, lot, spin, classes, years, nothin...   \n",
              "2  [family, diner, buffet, eclectic, assortment, ...   \n",
              "3  [wow, yummy, different, delicious, favorite, l...   \n",
              "4  [cute, interior, owner, gave, us, tour, upcomi...   \n",
              "\n",
              "                                       seq_embedding  \n",
              "0  [[0.09814453125, 0.09326171875, 0.16796875, 0....  \n",
              "1  [[-0.412109375, 0.1884765625, -0.234375, 0.296...  \n",
              "2  [[-0.018798828125, -0.1181640625, -0.143554687...  \n",
              "3  [[0.125, 0.01806640625, 0.0576171875, 0.002273...  \n",
              "4  [[0.10107421875, 0.049560546875, -0.1171875, 0...  "
            ]
          },
          "execution_count": 22,
          "metadata": {},
          "output_type": "execute_result"
        }
      ],
      "source": [
        "df.head()"
      ]
    },
    {
      "cell_type": "code",
      "execution_count": 23,
      "metadata": {
        "id": "tYWb0cWf4Gcr"
      },
      "outputs": [],
      "source": [
        "X = np.array(list(df['seq_embedding']))\n",
        "y = df['label'].values"
      ]
    },
    {
      "cell_type": "code",
      "execution_count": 24,
      "metadata": {
        "colab": {
          "base_uri": "https://localhost:8080/"
        },
        "id": "4GsI6AY-paNY",
        "outputId": "20c11c97-d57b-4b32-947e-d66c949c9b55"
      },
      "outputs": [
        {
          "name": "stdout",
          "output_type": "stream",
          "text": [
            "Training data shape: (5200, 100, 300)\n",
            "Testing data shape: (1300, 100, 300)\n"
          ]
        }
      ],
      "source": [
        "# Split into training and testing sets\n",
        "X_train, X_test, y_train, y_test = train_test_split(X, y, test_size=0.2, random_state=42)\n",
        "\n",
        "# Verify the shapes\n",
        "print(f'Training data shape: {X_train.shape}')\n",
        "print(f'Testing data shape: {X_test.shape}')\n",
        "\n"
      ]
    },
    {
      "cell_type": "code",
      "execution_count": 25,
      "metadata": {
        "colab": {
          "base_uri": "https://localhost:8080/"
        },
        "id": "y8cqunrXpdvs",
        "outputId": "5326f87e-884d-4547-b9d2-de994cf87ebc"
      },
      "outputs": [
        {
          "name": "stdout",
          "output_type": "stream",
          "text": [
            "Number of reviews with zero vectors: 0\n"
          ]
        }
      ],
      "source": [
        "zero_vectors = np.sum(np.all(X == 0, axis=1))\n",
        "print(f'Number of reviews with zero vectors: {zero_vectors}')"
      ]
    },
    {
      "cell_type": "code",
      "execution_count": 26,
      "metadata": {
        "colab": {
          "base_uri": "https://localhost:8080/"
        },
        "collapsed": true,
        "id": "iolKQa_GK0Cg",
        "outputId": "922aeacf-171f-4607-e2e5-73c6b919c47d"
      },
      "outputs": [
        {
          "name": "stdout",
          "output_type": "stream",
          "text": [
            "Requirement already satisfied: tensorflow in /usr/local/lib/python3.11/dist-packages (2.18.0)\n",
            "Requirement already satisfied: absl-py>=1.0.0 in /usr/local/lib/python3.11/dist-packages (from tensorflow) (1.4.0)\n",
            "Requirement already satisfied: astunparse>=1.6.0 in /usr/local/lib/python3.11/dist-packages (from tensorflow) (1.6.3)\n",
            "Requirement already satisfied: flatbuffers>=24.3.25 in /usr/local/lib/python3.11/dist-packages (from tensorflow) (25.2.10)\n",
            "Requirement already satisfied: gast!=0.5.0,!=0.5.1,!=0.5.2,>=0.2.1 in /usr/local/lib/python3.11/dist-packages (from tensorflow) (0.6.0)\n",
            "Requirement already satisfied: google-pasta>=0.1.1 in /usr/local/lib/python3.11/dist-packages (from tensorflow) (0.2.0)\n",
            "Requirement already satisfied: libclang>=13.0.0 in /usr/local/lib/python3.11/dist-packages (from tensorflow) (18.1.1)\n",
            "Requirement already satisfied: opt-einsum>=2.3.2 in /usr/local/lib/python3.11/dist-packages (from tensorflow) (3.4.0)\n",
            "Requirement already satisfied: packaging in /usr/local/lib/python3.11/dist-packages (from tensorflow) (24.2)\n",
            "Requirement already satisfied: protobuf!=4.21.0,!=4.21.1,!=4.21.2,!=4.21.3,!=4.21.4,!=4.21.5,<6.0.0dev,>=3.20.3 in /usr/local/lib/python3.11/dist-packages (from tensorflow) (5.29.5)\n",
            "Requirement already satisfied: requests<3,>=2.21.0 in /usr/local/lib/python3.11/dist-packages (from tensorflow) (2.32.3)\n",
            "Requirement already satisfied: setuptools in /usr/local/lib/python3.11/dist-packages (from tensorflow) (75.2.0)\n",
            "Requirement already satisfied: six>=1.12.0 in /usr/local/lib/python3.11/dist-packages (from tensorflow) (1.17.0)\n",
            "Requirement already satisfied: termcolor>=1.1.0 in /usr/local/lib/python3.11/dist-packages (from tensorflow) (3.1.0)\n",
            "Requirement already satisfied: typing-extensions>=3.6.6 in /usr/local/lib/python3.11/dist-packages (from tensorflow) (4.14.0)\n",
            "Requirement already satisfied: wrapt>=1.11.0 in /usr/local/lib/python3.11/dist-packages (from tensorflow) (1.17.2)\n",
            "Requirement already satisfied: grpcio<2.0,>=1.24.3 in /usr/local/lib/python3.11/dist-packages (from tensorflow) (1.72.1)\n",
            "Requirement already satisfied: tensorboard<2.19,>=2.18 in /usr/local/lib/python3.11/dist-packages (from tensorflow) (2.18.0)\n",
            "Requirement already satisfied: keras>=3.5.0 in /usr/local/lib/python3.11/dist-packages (from tensorflow) (3.8.0)\n",
            "Requirement already satisfied: numpy<2.1.0,>=1.26.0 in /usr/local/lib/python3.11/dist-packages (from tensorflow) (1.26.4)\n",
            "Requirement already satisfied: h5py>=3.11.0 in /usr/local/lib/python3.11/dist-packages (from tensorflow) (3.13.0)\n",
            "Requirement already satisfied: ml-dtypes<0.5.0,>=0.4.0 in /usr/local/lib/python3.11/dist-packages (from tensorflow) (0.4.1)\n",
            "Requirement already satisfied: tensorflow-io-gcs-filesystem>=0.23.1 in /usr/local/lib/python3.11/dist-packages (from tensorflow) (0.37.1)\n",
            "Requirement already satisfied: wheel<1.0,>=0.23.0 in /usr/local/lib/python3.11/dist-packages (from astunparse>=1.6.0->tensorflow) (0.45.1)\n",
            "Requirement already satisfied: rich in /usr/local/lib/python3.11/dist-packages (from keras>=3.5.0->tensorflow) (13.9.4)\n",
            "Requirement already satisfied: namex in /usr/local/lib/python3.11/dist-packages (from keras>=3.5.0->tensorflow) (0.1.0)\n",
            "Requirement already satisfied: optree in /usr/local/lib/python3.11/dist-packages (from keras>=3.5.0->tensorflow) (0.16.0)\n",
            "Requirement already satisfied: charset-normalizer<4,>=2 in /usr/local/lib/python3.11/dist-packages (from requests<3,>=2.21.0->tensorflow) (3.4.2)\n",
            "Requirement already satisfied: idna<4,>=2.5 in /usr/local/lib/python3.11/dist-packages (from requests<3,>=2.21.0->tensorflow) (3.10)\n",
            "Requirement already satisfied: urllib3<3,>=1.21.1 in /usr/local/lib/python3.11/dist-packages (from requests<3,>=2.21.0->tensorflow) (2.4.0)\n",
            "Requirement already satisfied: certifi>=2017.4.17 in /usr/local/lib/python3.11/dist-packages (from requests<3,>=2.21.0->tensorflow) (2025.4.26)\n",
            "Requirement already satisfied: markdown>=2.6.8 in /usr/local/lib/python3.11/dist-packages (from tensorboard<2.19,>=2.18->tensorflow) (3.8)\n",
            "Requirement already satisfied: tensorboard-data-server<0.8.0,>=0.7.0 in /usr/local/lib/python3.11/dist-packages (from tensorboard<2.19,>=2.18->tensorflow) (0.7.2)\n",
            "Requirement already satisfied: werkzeug>=1.0.1 in /usr/local/lib/python3.11/dist-packages (from tensorboard<2.19,>=2.18->tensorflow) (3.1.3)\n",
            "Requirement already satisfied: MarkupSafe>=2.1.1 in /usr/local/lib/python3.11/dist-packages (from werkzeug>=1.0.1->tensorboard<2.19,>=2.18->tensorflow) (3.0.2)\n",
            "Requirement already satisfied: markdown-it-py>=2.2.0 in /usr/local/lib/python3.11/dist-packages (from rich->keras>=3.5.0->tensorflow) (3.0.0)\n",
            "Requirement already satisfied: pygments<3.0.0,>=2.13.0 in /usr/local/lib/python3.11/dist-packages (from rich->keras>=3.5.0->tensorflow) (2.19.1)\n",
            "Requirement already satisfied: mdurl~=0.1 in /usr/local/lib/python3.11/dist-packages (from markdown-it-py>=2.2.0->rich->keras>=3.5.0->tensorflow) (0.1.2)\n"
          ]
        }
      ],
      "source": [
        "!pip install tensorflow"
      ]
    },
    {
      "cell_type": "code",
      "execution_count": 27,
      "metadata": {
        "id": "lYwg-LFuvw-L"
      },
      "outputs": [],
      "source": [
        "from tensorflow.keras.models import Sequential\n",
        "from tensorflow.keras.layers import LSTM, Dense, Bidirectional, Input, GlobalAveragePooling1D, Dropout\n",
        "from tensorflow.keras.optimizers import Adam, Nadam\n",
        "\n",
        "def create_deep_learning_model(input_shape, lstm_units=64):\n",
        "    \"\"\"\n",
        "    LSTM model for pre-computed embeddings\n",
        "    \"\"\"\n",
        "    model = Sequential([\n",
        "        Input(shape=input_shape), # 1\n",
        "        Bidirectional(LSTM(lstm_units, return_sequences=True)), # 2\n",
        "        Bidirectional(LSTM(lstm_units//2, return_sequences=True)), # 3\n",
        "        GlobalAveragePooling1D(), # 4\n",
        "        Dense(64, activation='relu'), # 5\n",
        "        Dropout(0.3), # 6\n",
        "        Dense(1, activation='sigmoid') # 7\n",
        "    ])\n",
        "\n",
        "    optimizer = Adam(learning_rate=0.0004)\n",
        "    model.compile(\n",
        "        optimizer=optimizer,\n",
        "        loss='binary_crossentropy',\n",
        "        metrics=['accuracy', 'mae']\n",
        "        )\n",
        "\n",
        "    return model"
      ]
    },
    {
      "cell_type": "code",
      "execution_count": 28,
      "metadata": {
        "colab": {
          "base_uri": "https://localhost:8080/"
        },
        "id": "G7-F9I1HmR9c",
        "outputId": "88f655b2-064b-443a-c51d-8921a5239cf6"
      },
      "outputs": [
        {
          "name": "stdout",
          "output_type": "stream",
          "text": [
            "Epoch 1/100\n",
            "\u001b[1m130/130\u001b[0m \u001b[32m━━━━━━━━━━━━━━━━━━━━\u001b[0m\u001b[37m\u001b[0m \u001b[1m64s\u001b[0m 397ms/step - accuracy: 0.6901 - loss: 0.6112 - mae: 0.4296 - val_accuracy: 0.8317 - val_loss: 0.3874 - val_mae: 0.2416 - learning_rate: 4.0000e-04\n",
            "Epoch 2/100\n",
            "\u001b[1m130/130\u001b[0m \u001b[32m━━━━━━━━━━━━━━━━━━━━\u001b[0m\u001b[37m\u001b[0m \u001b[1m74s\u001b[0m 342ms/step - accuracy: 0.8293 - loss: 0.4090 - mae: 0.2556 - val_accuracy: 0.8673 - val_loss: 0.3241 - val_mae: 0.2131 - learning_rate: 4.0000e-04\n",
            "Epoch 3/100\n",
            "\u001b[1m130/130\u001b[0m \u001b[32m━━━━━━━━━━━━━━━━━━━━\u001b[0m\u001b[37m\u001b[0m \u001b[1m76s\u001b[0m 300ms/step - accuracy: 0.8599 - loss: 0.3353 - mae: 0.2110 - val_accuracy: 0.8625 - val_loss: 0.3081 - val_mae: 0.2019 - learning_rate: 4.0000e-04\n",
            "Epoch 4/100\n",
            "\u001b[1m130/130\u001b[0m \u001b[32m━━━━━━━━━━━━━━━━━━━━\u001b[0m\u001b[37m\u001b[0m \u001b[1m40s\u001b[0m 292ms/step - accuracy: 0.8773 - loss: 0.3117 - mae: 0.1877 - val_accuracy: 0.8731 - val_loss: 0.3018 - val_mae: 0.1987 - learning_rate: 4.0000e-04\n",
            "Epoch 5/100\n",
            "\u001b[1m130/130\u001b[0m \u001b[32m━━━━━━━━━━━━━━━━━━━━\u001b[0m\u001b[37m\u001b[0m \u001b[1m43s\u001b[0m 305ms/step - accuracy: 0.8732 - loss: 0.3251 - mae: 0.1943 - val_accuracy: 0.8625 - val_loss: 0.3161 - val_mae: 0.1863 - learning_rate: 4.0000e-04\n",
            "Epoch 6/100\n",
            "\u001b[1m130/130\u001b[0m \u001b[32m━━━━━━━━━━━━━━━━━━━━\u001b[0m\u001b[37m\u001b[0m \u001b[1m0s\u001b[0m 267ms/step - accuracy: 0.8772 - loss: 0.3034 - mae: 0.1843\n",
            "Epoch 6: ReduceLROnPlateau reducing learning rate to 0.00019999999494757503.\n",
            "\u001b[1m130/130\u001b[0m \u001b[32m━━━━━━━━━━━━━━━━━━━━\u001b[0m\u001b[37m\u001b[0m \u001b[1m41s\u001b[0m 307ms/step - accuracy: 0.8772 - loss: 0.3034 - mae: 0.1843 - val_accuracy: 0.8721 - val_loss: 0.3051 - val_mae: 0.1815 - learning_rate: 4.0000e-04\n",
            "Epoch 7/100\n",
            "\u001b[1m130/130\u001b[0m \u001b[32m━━━━━━━━━━━━━━━━━━━━\u001b[0m\u001b[37m\u001b[0m \u001b[1m47s\u001b[0m 355ms/step - accuracy: 0.8879 - loss: 0.2694 - mae: 0.1627 - val_accuracy: 0.8808 - val_loss: 0.2964 - val_mae: 0.1733 - learning_rate: 2.0000e-04\n",
            "Epoch 8/100\n",
            "\u001b[1m130/130\u001b[0m \u001b[32m━━━━━━━━━━━━━━━━━━━━\u001b[0m\u001b[37m\u001b[0m \u001b[1m78s\u001b[0m 322ms/step - accuracy: 0.8912 - loss: 0.2699 - mae: 0.1641 - val_accuracy: 0.8702 - val_loss: 0.3101 - val_mae: 0.1634 - learning_rate: 2.0000e-04\n",
            "Epoch 9/100\n",
            "\u001b[1m130/130\u001b[0m \u001b[32m━━━━━━━━━━━━━━━━━━━━\u001b[0m\u001b[37m\u001b[0m \u001b[1m0s\u001b[0m 282ms/step - accuracy: 0.8940 - loss: 0.2640 - mae: 0.1535\n",
            "Epoch 9: ReduceLROnPlateau reducing learning rate to 9.999999747378752e-05.\n",
            "\u001b[1m130/130\u001b[0m \u001b[32m━━━━━━━━━━━━━━━━━━━━\u001b[0m\u001b[37m\u001b[0m \u001b[1m82s\u001b[0m 322ms/step - accuracy: 0.8940 - loss: 0.2640 - mae: 0.1535 - val_accuracy: 0.8673 - val_loss: 0.3182 - val_mae: 0.1714 - learning_rate: 2.0000e-04\n",
            "Epoch 10/100\n",
            "\u001b[1m130/130\u001b[0m \u001b[32m━━━━━━━━━━━━━━━━━━━━\u001b[0m\u001b[37m\u001b[0m \u001b[1m41s\u001b[0m 316ms/step - accuracy: 0.9011 - loss: 0.2543 - mae: 0.1511 - val_accuracy: 0.8760 - val_loss: 0.3051 - val_mae: 0.1582 - learning_rate: 1.0000e-04\n",
            "Epoch 11/100\n",
            "\u001b[1m130/130\u001b[0m \u001b[32m━━━━━━━━━━━━━━━━━━━━\u001b[0m\u001b[37m\u001b[0m \u001b[1m0s\u001b[0m 271ms/step - accuracy: 0.9047 - loss: 0.2314 - mae: 0.1379\n",
            "Epoch 11: ReduceLROnPlateau reducing learning rate to 4.999999873689376e-05.\n",
            "\u001b[1m130/130\u001b[0m \u001b[32m━━━━━━━━━━━━━━━━━━━━\u001b[0m\u001b[37m\u001b[0m \u001b[1m80s\u001b[0m 302ms/step - accuracy: 0.9047 - loss: 0.2314 - mae: 0.1380 - val_accuracy: 0.8740 - val_loss: 0.3088 - val_mae: 0.1602 - learning_rate: 1.0000e-04\n",
            "Epoch 12/100\n",
            "\u001b[1m130/130\u001b[0m \u001b[32m━━━━━━━━━━━━━━━━━━━━\u001b[0m\u001b[37m\u001b[0m \u001b[1m41s\u001b[0m 298ms/step - accuracy: 0.9126 - loss: 0.2332 - mae: 0.1365 - val_accuracy: 0.8798 - val_loss: 0.3123 - val_mae: 0.1577 - learning_rate: 5.0000e-05\n",
            "Epoch 13/100\n",
            "\u001b[1m130/130\u001b[0m \u001b[32m━━━━━━━━━━━━━━━━━━━━\u001b[0m\u001b[37m\u001b[0m \u001b[1m0s\u001b[0m 272ms/step - accuracy: 0.9179 - loss: 0.2227 - mae: 0.1288\n",
            "Epoch 13: ReduceLROnPlateau reducing learning rate to 2.499999936844688e-05.\n",
            "\u001b[1m130/130\u001b[0m \u001b[32m━━━━━━━━━━━━━━━━━━━━\u001b[0m\u001b[37m\u001b[0m \u001b[1m43s\u001b[0m 312ms/step - accuracy: 0.9179 - loss: 0.2227 - mae: 0.1288 - val_accuracy: 0.8731 - val_loss: 0.3163 - val_mae: 0.1596 - learning_rate: 5.0000e-05\n",
            "Epoch 14/100\n",
            "\u001b[1m130/130\u001b[0m \u001b[32m━━━━━━━━━━━━━━━━━━━━\u001b[0m\u001b[37m\u001b[0m \u001b[1m38s\u001b[0m 292ms/step - accuracy: 0.9191 - loss: 0.2077 - mae: 0.1240 - val_accuracy: 0.8663 - val_loss: 0.3327 - val_mae: 0.1724 - learning_rate: 2.5000e-05\n",
            "Epoch 15/100\n",
            "\u001b[1m130/130\u001b[0m \u001b[32m━━━━━━━━━━━━━━━━━━━━\u001b[0m\u001b[37m\u001b[0m \u001b[1m0s\u001b[0m 273ms/step - accuracy: 0.9204 - loss: 0.2272 - mae: 0.1311\n",
            "Epoch 15: ReduceLROnPlateau reducing learning rate to 1.249999968422344e-05.\n",
            "\u001b[1m130/130\u001b[0m \u001b[32m━━━━━━━━━━━━━━━━━━━━\u001b[0m\u001b[37m\u001b[0m \u001b[1m42s\u001b[0m 295ms/step - accuracy: 0.9204 - loss: 0.2271 - mae: 0.1311 - val_accuracy: 0.8750 - val_loss: 0.3231 - val_mae: 0.1611 - learning_rate: 2.5000e-05\n",
            "Epoch 16/100\n",
            "\u001b[1m130/130\u001b[0m \u001b[32m━━━━━━━━━━━━━━━━━━━━\u001b[0m\u001b[37m\u001b[0m \u001b[1m40s\u001b[0m 306ms/step - accuracy: 0.9226 - loss: 0.2076 - mae: 0.1235 - val_accuracy: 0.8760 - val_loss: 0.3259 - val_mae: 0.1624 - learning_rate: 1.2500e-05\n",
            "Epoch 17/100\n",
            "\u001b[1m130/130\u001b[0m \u001b[32m━━━━━━━━━━━━━━━━━━━━\u001b[0m\u001b[37m\u001b[0m \u001b[1m0s\u001b[0m 264ms/step - accuracy: 0.9230 - loss: 0.2074 - mae: 0.1206\n",
            "Epoch 17: ReduceLROnPlateau reducing learning rate to 6.24999984211172e-06.\n",
            "\u001b[1m130/130\u001b[0m \u001b[32m━━━━━━━━━━━━━━━━━━━━\u001b[0m\u001b[37m\u001b[0m \u001b[1m40s\u001b[0m 299ms/step - accuracy: 0.9230 - loss: 0.2074 - mae: 0.1207 - val_accuracy: 0.8788 - val_loss: 0.3173 - val_mae: 0.1579 - learning_rate: 1.2500e-05\n",
            "Epoch 17: early stopping\n",
            "Restoring model weights from the end of the best epoch: 7.\n"
          ]
        }
      ],
      "source": [
        "from tensorflow.keras.callbacks import EarlyStopping, ReduceLROnPlateau\n",
        "\n",
        "input_shape = (max_length, embedding_dim)\n",
        "model = create_deep_learning_model(input_shape=input_shape, lstm_units=64)\n",
        "\n",
        "early_stopping = EarlyStopping(\n",
        "    monitor='val_loss',\n",
        "    patience=10,\n",
        "    restore_best_weights=True,\n",
        "    verbose=1\n",
        ")\n",
        "\n",
        "reduce_lr = ReduceLROnPlateau(\n",
        "    monitor='val_loss',\n",
        "    factor=0.5,\n",
        "    patience=2,\n",
        "    min_lr=1e-6,\n",
        "    verbose=1\n",
        ")\n",
        "\n",
        "history = model.fit(\n",
        "    X_train, y_train,\n",
        "    batch_size=32,\n",
        "    epochs=100,\n",
        "    callbacks=[early_stopping, reduce_lr],\n",
        "    validation_split=0.2,\n",
        "    verbose=1\n",
        ")"
      ]
    },
    {
      "cell_type": "code",
      "execution_count": 29,
      "metadata": {
        "colab": {
          "base_uri": "https://localhost:8080/"
        },
        "id": "WSX_m9RdK1nl",
        "outputId": "d1b68787-a9ae-4a2f-890a-5b27de48c693"
      },
      "outputs": [
        {
          "name": "stdout",
          "output_type": "stream",
          "text": [
            "==================================================\n",
            "SENTIMENT REGRESSION EVALUATION\n",
            "==================================================\n",
            "MSE(loss):            0.0994\n",
            "MAE:            0.1811\n",
            "RMSE:           0.3152\n",
            "R²:             0.5404\n",
            "Correlation:    0.7378\n",
            "MAPE:           1045100356.11%\n",
            "==================================================\n"
          ]
        }
      ],
      "source": [
        "def evaluate_sentiment_model(model, X_test, y_test):\n",
        "    \"\"\"\n",
        "    Comprehensive evaluation for sentiment regression\n",
        "    \"\"\"\n",
        "    from sklearn.metrics import mean_squared_error, mean_absolute_error, r2_score\n",
        "\n",
        "    # Get predictions\n",
        "    y_pred = model.predict(X_test, verbose=0).flatten()\n",
        "\n",
        "    # Calculate regression metrics\n",
        "    mse = mean_squared_error(y_test, y_pred)\n",
        "    mae = mean_absolute_error(y_test, y_pred)\n",
        "    rmse = np.sqrt(mse)\n",
        "    r2 = r2_score(y_test, y_pred)  # R-squared (coefficient of determination)\n",
        "    correlation = np.corrcoef(y_test, y_pred)[0, 1]\n",
        "\n",
        "    # Additional regression metrics\n",
        "    mape = np.mean(np.abs((y_test - y_pred) / np.maximum(np.abs(y_test), 1e-8))) * 100\n",
        "\n",
        "    print(\"=\"*50)\n",
        "    print(\"SENTIMENT REGRESSION EVALUATION\")\n",
        "    print(\"=\"*50)\n",
        "    print(f\"MSE(loss):            {mse:.4f}\")\n",
        "    print(f\"MAE:            {mae:.4f}\")\n",
        "    print(f\"RMSE:           {rmse:.4f}\")\n",
        "    print(f\"R²:             {r2:.4f}\")\n",
        "    print(f\"Correlation:    {correlation:.4f}\")\n",
        "    print(f\"MAPE:           {mape:.2f}%\")\n",
        "    print(\"=\"*50)\n",
        "\n",
        "    return {\n",
        "        'mse': mse, 'mae': mae, 'rmse': rmse,\n",
        "        'r2': r2, 'correlation': correlation, 'mape': mape\n",
        "    }\n",
        "\n",
        "regression_results = evaluate_sentiment_model(model, X_test, y_test)"
      ]
    },
    {
      "cell_type": "code",
      "execution_count": 30,
      "metadata": {
        "colab": {
          "base_uri": "https://localhost:8080/",
          "height": 743
        },
        "id": "06Nd1SzMvZgg",
        "outputId": "2709b3d1-5af2-4195-811c-2ffbd4fa4565"
      },
      "outputs": [
        {
          "data": {
            "image/png": "[encoded data removed]",
            "text/plain": [
              "<Figure size 800x600 with 2 Axes>"
            ]
          },
          "metadata": {},
          "output_type": "display_data"
        },
        {
          "name": "stdout",
          "output_type": "stream",
          "text": [
            "\n",
            "Confusion Matrix Breakdown:\n",
            "True Negatives:  288\n",
            "False Positives: 123\n",
            "False Negatives: 48\n",
            "True Positives:  841\n",
            "\n",
            "Precision: 0.8724\n",
            "Recall:    0.9460\n",
            "F1-Score:  0.9077\n"
          ]
        }
      ],
      "source": [
        "def create_binary_confusion_matrix(model, X_test, y_test):\n",
        "    \"\"\"\n",
        "    Create confusion matrix for binary classification\n",
        "    \"\"\"\n",
        "    import matplotlib.pyplot as plt\n",
        "    import seaborn as sns\n",
        "    from sklearn.metrics import confusion_matrix\n",
        "\n",
        "    # Get predictions\n",
        "    y_pred_prob = model.predict(X_test, verbose=0).flatten()\n",
        "    y_pred = (y_pred_prob > 0.5).astype(int)\n",
        "\n",
        "    # Create confusion matrix\n",
        "    cm = confusion_matrix(y_test, y_pred)\n",
        "\n",
        "    # Plot\n",
        "    plt.figure(figsize=(8, 6))\n",
        "    sns.heatmap(cm, annot=True, fmt='d', cmap='Blues',\n",
        "                xticklabels=['Negative', 'Positive'],\n",
        "                yticklabels=['Negative', 'Positive'])\n",
        "    plt.title('Confusion Matrix: Binary Sentiment Classification')\n",
        "    plt.xlabel('Predicted')\n",
        "    plt.ylabel('Actual')\n",
        "    plt.show()\n",
        "\n",
        "    # Extract metrics from confusion matrix\n",
        "    tn, fp, fn, tp = cm.ravel()\n",
        "\n",
        "    precision = tp / (tp + fp)\n",
        "    recall = tp / (tp + fn)\n",
        "    f1 = 2 * (precision * recall) / (precision + recall)\n",
        "\n",
        "    print(\"\\nConfusion Matrix Breakdown:\")\n",
        "    print(f\"True Negatives:  {tn}\")\n",
        "    print(f\"False Positives: {fp}\")\n",
        "    print(f\"False Negatives: {fn}\")\n",
        "    print(f\"True Positives:  {tp}\")\n",
        "    print(f\"\\nPrecision: {precision:.4f}\")\n",
        "    print(f\"Recall:    {recall:.4f}\")\n",
        "    print(f\"F1-Score:  {f1:.4f}\")\n",
        "\n",
        "    return cm\n",
        "\n",
        "# Usage\n",
        "cm = create_binary_confusion_matrix(model, X_test, y_test)"
      ]
    },
    {
      "cell_type": "code",
      "execution_count": 31,
      "metadata": {
        "colab": {
          "base_uri": "https://localhost:8080/",
          "height": 376
        },
        "id": "dQlotxAUJ5yw",
        "outputId": "c5f6240e-0f04-4b77-e570-ca974ef3a078"
      },
      "outputs": [
        {
          "data": {
            "image/png": "[encoded data removed]",
            "text/plain": [
              "<Figure size 1200x400 with 2 Axes>"
            ]
          },
          "metadata": {},
          "output_type": "display_data"
        }
      ],
      "source": [
        "# Optional: Plot training history\n",
        "plt.figure(figsize=(12, 4))\n",
        "plt.subplot(1, 2, 1)\n",
        "plt.plot(history.history['loss'], label='Training Loss')\n",
        "plt.plot(history.history['val_loss'], label='Validation Loss')\n",
        "plt.title('Model Loss')\n",
        "plt.legend()\n",
        "\n",
        "plt.subplot(1, 2, 2)\n",
        "plt.plot(history.history['mae'], label='Training MAE')\n",
        "plt.plot(history.history['val_mae'], label='Validation MAE')\n",
        "plt.title('Model MAE')\n",
        "plt.legend()\n",
        "plt.show()"
      ]
    },
    {
      "cell_type": "code",
      "execution_count": 31,
      "metadata": {
        "id": "1N_IVjPEJS53"
      },
      "outputs": [],
      "source": []
    }
  ],
  "metadata": {
    "accelerator": "TPU",
    "colab": {
      "gpuType": "V28",
      "include_colab_link": true,
      "provenance": []
    },
    "kernelspec": {
      "display_name": "Python 3",
      "name": "python3"
    },
    "language_info": {
      "codemirror_mode": {
        "name": "ipython",
        "version": 3
      },
      "file_extension": ".py",
      "mimetype": "text/x-python",
      "name": "python",
      "nbconvert_exporter": "python",
      "pygments_lexer": "ipython3",
      "version": "3.9.6"
    }
  },
  "nbformat": 4,
  "nbformat_minor": 0
}
